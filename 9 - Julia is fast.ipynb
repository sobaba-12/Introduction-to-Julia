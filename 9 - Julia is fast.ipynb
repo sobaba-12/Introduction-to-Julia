{
 "cells": [
  {
   "cell_type": "markdown",
   "metadata": {},
   "source": [
    "# Julia is fast\n",
    "\n",
    "Very often, benchmarks are used to compare languages.  These benchmarks can lead to long discussions, first as to exactly what is being benchmarked and secondly what explains the differences.  These simple questions can sometimes get more complicated than you at first might imagine.\n",
    "\n",
    "The purpose of this notebook is for you to see a simple benchmark for yourself.  One can read the notebook and see what happened on the author's Macbook Pro with a 4-core Intel Core I7, or run the notebook yourself.\n",
    "\n",
    "(This material began life as a wonderful lecture by Steven Johnson at MIT: https://github.com/stevengj/18S096/blob/master/lectures/lecture1/Boxes-and-registers.ipynb.)"
   ]
  },
  {
   "cell_type": "markdown",
   "metadata": {},
   "source": [
    "# Outline of this notebook\n",
    "\n",
    "- Define the sum function\n",
    "- Implementations & benchmarking of sum in...\n",
    "    - C (hand-written)\n",
    "    - C (hand-written with -ffast-math)\n",
    "    - python (built-in)\n",
    "    - python (numpy)\n",
    "    - python (hand-written)\n",
    "    - Julia (built-in)\n",
    "    - Julia (hand-written)\n",
    "    - Julia (hand-written with SIMD)\n",
    "- Summary of benchmarks"
   ]
  },
  {
   "cell_type": "markdown",
   "metadata": {},
   "source": [
    "# `sum`: An easy enough function to understand"
   ]
  },
  {
   "cell_type": "markdown",
   "metadata": {},
   "source": [
    "Consider the  **sum** function `sum(a)`, which computes\n",
    "$$\n",
    "\\mathrm{sum}(a) = \\sum_{i=1}^n a_i,\n",
    "$$\n",
    "where $n$ is the length of `a`."
   ]
  },
  {
   "cell_type": "code",
   "execution_count": 1,
   "metadata": {},
   "outputs": [
    {
     "data": {
      "text/plain": [
       "10000000-element Vector{Float64}:\n",
       " 0.5490460030061002\n",
       " 0.21152308538883957\n",
       " 0.4211604760652997\n",
       " 0.24076031222261052\n",
       " 0.6399972190235906\n",
       " 0.29156129931543995\n",
       " 0.5914275605629259\n",
       " 0.10600308620788346\n",
       " 0.0946717908673097\n",
       " 0.15087196303032246\n",
       " ⋮\n",
       " 0.9983140652072142\n",
       " 0.3733820512029551\n",
       " 0.7133868471394686\n",
       " 0.9839939443707294\n",
       " 0.7591089368638609\n",
       " 0.6663232372986172\n",
       " 0.5153250123154138\n",
       " 0.027994116646096634\n",
       " 0.1692840804519279"
      ]
     },
     "metadata": {},
     "output_type": "display_data"
    }
   ],
   "source": [
    "a = rand(10^7) # 1D vector of random numbers, uniform on [0,1)"
   ]
  },
  {
   "cell_type": "code",
   "execution_count": 2,
   "metadata": {},
   "outputs": [
    {
     "data": {
      "text/plain": [
       "4.999882072827285e6"
      ]
     },
     "metadata": {},
     "output_type": "display_data"
    }
   ],
   "source": [
    "sum(a)"
   ]
  },
  {
   "cell_type": "markdown",
   "metadata": {},
   "source": [
    "The expected result is 0.5 * 10^7, since the mean of each entry is 0.5"
   ]
  },
  {
   "cell_type": "markdown",
   "metadata": {},
   "source": [
    "# Benchmarking a few ways in a few languages"
   ]
  },
  {
   "cell_type": "code",
   "execution_count": 3,
   "metadata": {},
   "outputs": [
    {
     "name": "stdout",
     "output_type": "stream",
     "text": [
      "  0.005350 seconds (1 allocation: 16 bytes)\n"
     ]
    },
    {
     "data": {
      "text/plain": [
       "4.999882072827285e6"
      ]
     },
     "metadata": {},
     "output_type": "display_data"
    }
   ],
   "source": [
    "@time sum(a)"
   ]
  },
  {
   "cell_type": "code",
   "execution_count": 4,
   "metadata": {},
   "outputs": [
    {
     "name": "stdout",
     "output_type": "stream",
     "text": [
      "  0.005903 seconds (1 allocation: 16 bytes)\n"
     ]
    },
    {
     "data": {
      "text/plain": [
       "4.999882072827285e6"
      ]
     },
     "metadata": {},
     "output_type": "display_data"
    }
   ],
   "source": [
    "@time sum(a)"
   ]
  },
  {
   "cell_type": "code",
   "execution_count": 5,
   "metadata": {},
   "outputs": [
    {
     "name": "stdout",
     "output_type": "stream",
     "text": [
      "  0.003498 seconds (1 allocation: 16 bytes)\n"
     ]
    },
    {
     "data": {
      "text/plain": [
       "5.000406093458154e6"
      ]
     },
     "execution_count": 5,
     "metadata": {},
     "output_type": "execute_result"
    }
   ],
   "source": [
    "@time sum(a)"
   ]
  },
  {
   "cell_type": "markdown",
   "metadata": {},
   "source": [
    "The `@time` macro can yield noisy results, so it's not our best choice for benchmarking!\n",
    "\n",
    "Luckily, Julia has a `BenchmarkTools.jl` package to make benchmarking easy and accurate:"
   ]
  },
  {
   "cell_type": "code",
   "execution_count": 6,
   "metadata": {},
   "outputs": [
    {
     "name": "stderr",
     "output_type": "stream",
     "text": [
      "\u001b[32m\u001b[1m    Updating\u001b[22m\u001b[39m registry at `~/.julia/registries/General`\n",
      "\u001b[32m\u001b[1m    Updating\u001b[22m\u001b[39m git-repo `https://github.com/JuliaRegistries/General.git`\n",
      "\u001b[32m\u001b[1m    Updating\u001b[22m\u001b[39m registry at `~/.julia/registries/JuliaPOMDP`\n",
      "\u001b[32m\u001b[1m    Updating\u001b[22m\u001b[39m git-repo `https://github.com/JuliaPOMDP/Registry`\n",
      "\u001b[32m\u001b[1m   Resolving\u001b[22m\u001b[39m package versions...\n",
      "\u001b[32m\u001b[1m   Installed\u001b[22m\u001b[39m BenchmarkTools ─ v1.1.1\n",
      "\u001b[32m\u001b[1m    Updating\u001b[22m\u001b[39m `~/Desktop/Introduction-to-Julia/Project.toml`\n",
      " \u001b[90m [6e4b80f9] \u001b[39m\u001b[92m+ BenchmarkTools v1.1.1\u001b[39m\n",
      "\u001b[32m\u001b[1m    Updating\u001b[22m\u001b[39m `~/Desktop/Introduction-to-Julia/Manifest.toml`\n",
      " \u001b[90m [6e4b80f9] \u001b[39m\u001b[92m+ BenchmarkTools v1.1.1\u001b[39m\n",
      "\u001b[32m\u001b[1mPrecompiling\u001b[22m\u001b[39m project...\n",
      "\u001b[32m  ✓ \u001b[39mBenchmarkTools\n",
      "1 dependency successfully precompiled in 2 seconds (118 already precompiled)\n"
     ]
    }
   ],
   "source": [
    "using Pkg\n",
    "Pkg.add(\"BenchmarkTools\")"
   ]
  },
  {
   "cell_type": "code",
   "execution_count": 5,
   "metadata": {},
   "outputs": [],
   "source": [
    "using BenchmarkTools  "
   ]
  },
  {
   "cell_type": "markdown",
   "metadata": {},
   "source": [
    "#  1. The C language\n",
    "\n",
    "C is often considered the gold standard: difficult on the human, nice for the machine. Getting within a factor of 2 of C is often satisfying. Nonetheless, even within C, there are many kinds of optimizations possible that a naive C writer may or may not get the advantage of.\n",
    "\n",
    "The current author does not speak C, so he does not read the cell below, but is happy to know that you can put C code in a Julia session, compile it, and run it. Note that the `\"\"\"` wrap a multi-line string."
   ]
  },
  {
   "cell_type": "code",
   "execution_count": 6,
   "metadata": {},
   "outputs": [
    {
     "ename": "Base.IOError",
     "evalue": "IOError: could not spawn `gcc -fPIC -O3 -msse3 -xc -shared -o 'C:\\Users\\user\\AppData\\Local\\Temp\\jl_wtkxytONGp.dll' -`: no such file or directory (ENOENT)",
     "output_type": "error",
     "traceback": [
      "IOError: could not spawn `gcc -fPIC -O3 -msse3 -xc -shared -o 'C:\\Users\\user\\AppData\\Local\\Temp\\jl_wtkxytONGp.dll' -`: no such file or directory (ENOENT)\n",
      "\n",
      "Stacktrace:\n",
      "  [1] _spawn_primitive(file::String, cmd::Cmd, stdio::Memory{Union{RawFD, Base.Libc.WindowsRawSocket, Base.SyncCloseFD, IO}})\n",
      "    @ Base .\\process.jl:140\n",
      "  [2] _spawn\n",
      "    @ .\\process.jl:157 [inlined]\n",
      "  [3] #_spawn##0\n",
      "    @ .\\process.jl:149 [inlined]\n",
      "  [4] setup_stdios(f::Base.var\"#_spawn##0#_spawn##1\"{Cmd}, stdios::Vector{Union{RawFD, Base.Libc.WindowsRawSocket, Base.FileRedirect, IO}})\n",
      "    @ Base .\\process.jl:236\n",
      "  [5] _spawn\n",
      "    @ .\\process.jl:148 [inlined]\n",
      "  [6] open(cmds::Cmd, stdio::Base.DevNull; write::Bool, read::Bool)\n",
      "    @ Base .\\process.jl:411\n",
      "  [7] open\n",
      "    @ .\\process.jl:397 [inlined]\n",
      "  [8] open(cmds::Cmd, mode::String, stdio::Base.DevNull)\n",
      "    @ Base .\\process.jl:380\n",
      "  [9] open\n",
      "    @ .\\process.jl:375 [inlined]\n",
      " [10] open(f::var\"#17#18\", cmds::Cmd, args::String; kwargs::@Kwargs{})\n",
      "    @ Base .\\process.jl:429\n",
      " [11] open(f::Function, cmds::Cmd, args::String)\n",
      "    @ Base .\\process.jl:428\n",
      " [12] top-level scope\n",
      "    @ c:\\Users\\user\\Documents\\Julia_Projects\\Introduction-to-Julia\\jl_notebook_cell_df34fa98e69747e1a8f8a730347b8e2f_X21sZmlsZQ==.jl:19"
     ]
    }
   ],
   "source": [
    "using Libdl\n",
    "C_code = \"\"\"\n",
    "#include <stddef.h>\n",
    "double c_sum(size_t n, double *X) {\n",
    "    double s = 0.0;\n",
    "    for (size_t i = 0; i < n; ++i) {\n",
    "        s += X[i];\n",
    "    }\n",
    "    return s;\n",
    "}\n",
    "\"\"\"\n",
    "\n",
    "const Clib = tempname()   # make a temporary file\n",
    "\n",
    "\n",
    "# compile to a shared library by piping C_code to gcc\n",
    "# (works only if you have gcc installed):\n",
    "\n",
    "open(`gcc -fPIC -O3 -msse3 -xc -shared -o $(Clib * \".\" * Libdl.dlext) -`, \"w\") do f\n",
    "    print(f, C_code) \n",
    "end\n",
    "\n",
    "# define a Julia function that calls the C function:\n",
    "c_sum(X::Array{Float64}) = ccall((\"c_sum\", Clib), Float64, (Csize_t, Ptr{Float64}), length(X), X)"
   ]
  },
  {
   "cell_type": "code",
   "execution_count": 7,
   "metadata": {},
   "outputs": [
    {
     "ename": "UndefVarError",
     "evalue": "UndefVarError: `c_sum` not defined in `Main`\nSuggestion: check for spelling errors or missing imports.",
     "output_type": "error",
     "traceback": [
      "UndefVarError: `c_sum` not defined in `Main`\n",
      "Suggestion: check for spelling errors or missing imports.\n",
      "\n",
      "Stacktrace:\n",
      " [1] top-level scope\n",
      "   @ c:\\Users\\user\\Documents\\Julia_Projects\\Introduction-to-Julia\\jl_notebook_cell_df34fa98e69747e1a8f8a730347b8e2f_X22sZmlsZQ==.jl:1"
     ]
    }
   ],
   "source": [
    "c_sum(a)"
   ]
  },
  {
   "cell_type": "code",
   "execution_count": 8,
   "metadata": {},
   "outputs": [
    {
     "ename": "UndefVarError",
     "evalue": "UndefVarError: `c_sum` not defined in `Main`\nSuggestion: check for spelling errors or missing imports.",
     "output_type": "error",
     "traceback": [
      "UndefVarError: `c_sum` not defined in `Main`\n",
      "Suggestion: check for spelling errors or missing imports.\n",
      "\n",
      "Stacktrace:\n",
      " [1] top-level scope\n",
      "   @ c:\\Users\\user\\Documents\\Julia_Projects\\Introduction-to-Julia\\jl_notebook_cell_df34fa98e69747e1a8f8a730347b8e2f_X23sZmlsZQ==.jl:1"
     ]
    }
   ],
   "source": [
    "c_sum(a) ≈ sum(a) # type \\approx and then <TAB> to get the ≈ symbolb"
   ]
  },
  {
   "cell_type": "code",
   "execution_count": 9,
   "metadata": {},
   "outputs": [
    {
     "ename": "UndefVarError",
     "evalue": "UndefVarError: `c_sum` not defined in `Main`\nSuggestion: check for spelling errors or missing imports.",
     "output_type": "error",
     "traceback": [
      "UndefVarError: `c_sum` not defined in `Main`\n",
      "Suggestion: check for spelling errors or missing imports.\n",
      "\n",
      "Stacktrace:\n",
      " [1] top-level scope\n",
      "   @ c:\\Users\\user\\Documents\\Julia_Projects\\Introduction-to-Julia\\jl_notebook_cell_df34fa98e69747e1a8f8a730347b8e2f_X24sZmlsZQ==.jl:1"
     ]
    }
   ],
   "source": [
    "c_sum(a) - sum(a)  "
   ]
  },
  {
   "cell_type": "code",
   "execution_count": 10,
   "metadata": {
    "scrolled": true
   },
   "outputs": [
    {
     "data": {
      "text/plain": [
       "isapprox (generic function with 13 methods)"
      ]
     },
     "metadata": {},
     "output_type": "display_data"
    }
   ],
   "source": [
    "≈  # alias for the `isapprox` function"
   ]
  },
  {
   "cell_type": "code",
   "execution_count": 11,
   "metadata": {
    "scrolled": true
   },
   "outputs": [
    {
     "ename": "Base.Meta.ParseError",
     "evalue": "ParseError:\n# Error @ c:\\Users\\user\\Documents\\Julia_Projects\\Introduction-to-Julia\\jl_notebook_cell_df34fa98e69747e1a8f8a730347b8e2f_X26sZmlsZQ==.jl:1:1\n?isapprox\n╙ ── not a unary operator",
     "output_type": "error",
     "traceback": [
      "ParseError:\n",
      "# Error @ c:\\Users\\user\\Documents\\Julia_Projects\\Introduction-to-Julia\\jl_notebook_cell_df34fa98e69747e1a8f8a730347b8e2f_X26sZmlsZQ==.jl:1:1\n",
      "?isapprox\n",
      "╙ ── not a unary operator\n",
      "\n",
      "Stacktrace:\n",
      " [1] top-level scope\n",
      "   @ c:\\Users\\user\\Documents\\Julia_Projects\\Introduction-to-Julia\\jl_notebook_cell_df34fa98e69747e1a8f8a730347b8e2f_X26sZmlsZQ==.jl:1"
     ]
    }
   ],
   "source": [
    "?isapprox"
   ]
  },
  {
   "cell_type": "markdown",
   "metadata": {},
   "source": [
    "We can now benchmark the C code directly from Julia:"
   ]
  },
  {
   "cell_type": "code",
   "execution_count": 12,
   "metadata": {},
   "outputs": [
    {
     "ename": "UndefVarError",
     "evalue": "UndefVarError: `c_sum` not defined in `Main`\nSuggestion: check for spelling errors or missing imports.",
     "output_type": "error",
     "traceback": [
      "UndefVarError: `c_sum` not defined in `Main`\n",
      "Suggestion: check for spelling errors or missing imports.\n",
      "\n",
      "Stacktrace:\n",
      "  [1] var\"##core#279\"(a#278::Vector{Float64})\n",
      "    @ Main C:\\Users\\user\\.julia\\packages\\BenchmarkTools\\1i1mY\\src\\execution.jl:598\n",
      "  [2] var\"##sample#280\"(::Tuple{Vector{Float64}}, __params::BenchmarkTools.Parameters)\n",
      "    @ Main C:\\Users\\user\\.julia\\packages\\BenchmarkTools\\1i1mY\\src\\execution.jl:607\n",
      "  [3] _lineartrial(b::BenchmarkTools.Benchmark, p::BenchmarkTools.Parameters; maxevals::Int64, kwargs::@Kwargs{})\n",
      "    @ BenchmarkTools C:\\Users\\user\\.julia\\packages\\BenchmarkTools\\1i1mY\\src\\execution.jl:186\n",
      "  [4] _lineartrial(b::BenchmarkTools.Benchmark, p::BenchmarkTools.Parameters)\n",
      "    @ BenchmarkTools C:\\Users\\user\\.julia\\packages\\BenchmarkTools\\1i1mY\\src\\execution.jl:181\n",
      "  [5] #lineartrial#32\n",
      "    @ C:\\Users\\user\\.julia\\packages\\BenchmarkTools\\1i1mY\\src\\execution.jl:51 [inlined]\n",
      "  [6] lineartrial\n",
      "    @ C:\\Users\\user\\.julia\\packages\\BenchmarkTools\\1i1mY\\src\\execution.jl:50 [inlined]\n",
      "  [7] tune!(b::BenchmarkTools.Benchmark, p::BenchmarkTools.Parameters; progressid::Nothing, nleaves::Float64, ndone::Float64, verbose::Bool, pad::String, kwargs::@Kwargs{})\n",
      "    @ BenchmarkTools C:\\Users\\user\\.julia\\packages\\BenchmarkTools\\1i1mY\\src\\execution.jl:299\n",
      "  [8] tune!\n",
      "    @ C:\\Users\\user\\.julia\\packages\\BenchmarkTools\\1i1mY\\src\\execution.jl:288 [inlined]\n",
      "  [9] tune!(b::BenchmarkTools.Benchmark)\n",
      "    @ BenchmarkTools C:\\Users\\user\\.julia\\packages\\BenchmarkTools\\1i1mY\\src\\execution.jl:288\n",
      " [10] top-level scope\n",
      "    @ C:\\Users\\user\\.julia\\packages\\BenchmarkTools\\1i1mY\\src\\execution.jl:461"
     ]
    }
   ],
   "source": [
    "c_bench = @benchmark c_sum($a)"
   ]
  },
  {
   "cell_type": "code",
   "execution_count": 13,
   "metadata": {},
   "outputs": [
    {
     "ename": "UndefVarError",
     "evalue": "UndefVarError: `c_bench` not defined in `Main`\nSuggestion: check for spelling errors or missing imports.",
     "output_type": "error",
     "traceback": [
      "UndefVarError: `c_bench` not defined in `Main`\n",
      "Suggestion: check for spelling errors or missing imports.\n",
      "\n",
      "Stacktrace:\n",
      " [1] top-level scope\n",
      "   @ c:\\Users\\user\\Documents\\Julia_Projects\\Introduction-to-Julia\\jl_notebook_cell_df34fa98e69747e1a8f8a730347b8e2f_X32sZmlsZQ==.jl:1"
     ]
    }
   ],
   "source": [
    "println(\"C: Fastest time was $(minimum(c_bench.times) / 1e6) msec\")"
   ]
  },
  {
   "cell_type": "code",
   "execution_count": 14,
   "metadata": {
    "scrolled": true
   },
   "outputs": [
    {
     "ename": "UndefVarError",
     "evalue": "UndefVarError: `c_bench` not defined in `Main`\nSuggestion: check for spelling errors or missing imports.",
     "output_type": "error",
     "traceback": [
      "UndefVarError: `c_bench` not defined in `Main`\n",
      "Suggestion: check for spelling errors or missing imports.\n",
      "\n",
      "Stacktrace:\n",
      " [1] top-level scope\n",
      "   @ c:\\Users\\user\\Documents\\Julia_Projects\\Introduction-to-Julia\\jl_notebook_cell_df34fa98e69747e1a8f8a730347b8e2f_X33sZmlsZQ==.jl:2"
     ]
    }
   ],
   "source": [
    "d = Dict()  # a \"dictionary\", i.e. an associative array\n",
    "d[\"C\"] = minimum(c_bench.times) / 1e6  # in milliseconds\n",
    "d"
   ]
  },
  {
   "cell_type": "code",
   "execution_count": 15,
   "metadata": {
    "scrolled": true
   },
   "outputs": [
    {
     "name": "stderr",
     "output_type": "stream",
     "text": [
      "┌ Warning: attempting to remove probably stale pidfile\n",
      "│   path = C:\\Users\\user\\.julia\\compiled\\v1.12\\Plots\\ld3vC_zedvB.ji.pidfile\n",
      "└ @ FileWatching.Pidfile C:\\Users\\user\\.julia\\juliaup\\julia-1.12.0+0.x64.w64.mingw32\\share\\julia\\stdlib\\v1.12\\FileWatching\\src\\pidfile.jl:247\n",
      "\n",
      "SYSTEM: caught exception of type :MethodError while trying to print a failed Task notice; giving up\n"
     ]
    },
    {
     "data": {
      "text/plain": [
       "Plots.GRBackend()"
      ]
     },
     "metadata": {},
     "output_type": "display_data"
    }
   ],
   "source": [
    "using Plots\n",
    "gr()"
   ]
  },
  {
   "cell_type": "code",
   "execution_count": 16,
   "metadata": {},
   "outputs": [
    {
     "ename": "UndefVarError",
     "evalue": "UndefVarError: `c_bench` not defined in `Main`\nSuggestion: check for spelling errors or missing imports.",
     "output_type": "error",
     "traceback": [
      "UndefVarError: `c_bench` not defined in `Main`\n",
      "Suggestion: check for spelling errors or missing imports.\n",
      "\n",
      "Stacktrace:\n",
      " [1] top-level scope\n",
      "   @ c:\\Users\\user\\Documents\\Julia_Projects\\Introduction-to-Julia\\jl_notebook_cell_df34fa98e69747e1a8f8a730347b8e2f_X35sZmlsZQ==.jl:2"
     ]
    }
   ],
   "source": [
    "using Statistics # bring in statistical support for standard deviations\n",
    "t = c_bench.times / 1e6 # times in milliseconds\n",
    "m, σ = minimum(t), std(t)\n",
    "\n",
    "histogram(t, bins=500,\n",
    "    xlim=(m - 0.01, m + σ),\n",
    "    xlabel=\"milliseconds\", ylabel=\"count\", label=\"\")"
   ]
  },
  {
   "cell_type": "markdown",
   "metadata": {},
   "source": [
    "# 2. C with -ffast-math\n",
    "\n",
    "If we allow C to re-arrange the floating point operations, then it'll vectorize with SIMD (single instruction, multiple data) instructions."
   ]
  },
  {
   "cell_type": "code",
   "execution_count": 17,
   "metadata": {},
   "outputs": [
    {
     "ename": "Base.IOError",
     "evalue": "IOError: could not spawn `gcc -fPIC -O3 -msse3 -xc -shared -ffast-math -o 'C:\\Users\\user\\AppData\\Local\\Temp\\jl_8XiT61yBkd.dll' -`: no such file or directory (ENOENT)",
     "output_type": "error",
     "traceback": [
      "IOError: could not spawn `gcc -fPIC -O3 -msse3 -xc -shared -ffast-math -o 'C:\\Users\\user\\AppData\\Local\\Temp\\jl_8XiT61yBkd.dll' -`: no such file or directory (ENOENT)\n",
      "\n",
      "Stacktrace:\n",
      "  [1] _spawn_primitive(file::String, cmd::Cmd, stdio::Memory{Union{RawFD, Base.Libc.WindowsRawSocket, Base.SyncCloseFD, IO}})\n",
      "    @ Base .\\process.jl:140\n",
      "  [2] _spawn\n",
      "    @ .\\process.jl:157 [inlined]\n",
      "  [3] #_spawn##0\n",
      "    @ .\\process.jl:149 [inlined]\n",
      "  [4] setup_stdios(f::Base.var\"#_spawn##0#_spawn##1\"{Cmd}, stdios::Vector{Union{RawFD, Base.Libc.WindowsRawSocket, Base.FileRedirect, IO}})\n",
      "    @ Base .\\process.jl:236\n",
      "  [5] _spawn\n",
      "    @ .\\process.jl:148 [inlined]\n",
      "  [6] open(cmds::Cmd, stdio::Base.DevNull; write::Bool, read::Bool)\n",
      "    @ Base .\\process.jl:411\n",
      "  [7] open\n",
      "    @ .\\process.jl:397 [inlined]\n",
      "  [8] open(cmds::Cmd, mode::String, stdio::Base.DevNull)\n",
      "    @ Base .\\process.jl:380\n",
      "  [9] open\n",
      "    @ .\\process.jl:375 [inlined]\n",
      " [10] open(f::var\"#20#21\", cmds::Cmd, args::String; kwargs::@Kwargs{})\n",
      "    @ Base .\\process.jl:429\n",
      " [11] open(f::Function, cmds::Cmd, args::String)\n",
      "    @ Base .\\process.jl:428\n",
      " [12] top-level scope\n",
      "    @ c:\\Users\\user\\Documents\\Julia_Projects\\Introduction-to-Julia\\jl_notebook_cell_df34fa98e69747e1a8f8a730347b8e2f_X40sZmlsZQ==.jl:4"
     ]
    }
   ],
   "source": [
    "const Clib_fastmath = tempname()   # make a temporary file\n",
    "\n",
    "# The same as above but with a -ffast-math flag added\n",
    "open(`gcc -fPIC -O3 -msse3 -xc -shared -ffast-math -o $(Clib_fastmath * \".\" * Libdl.dlext) -`, \"w\") do f\n",
    "    print(f, C_code) \n",
    "end\n",
    "\n",
    "# define a Julia function that calls the C function:\n",
    "c_sum_fastmath(X::Array{Float64}) = ccall((\"c_sum\", Clib_fastmath), Float64, (Csize_t, Ptr{Float64}), length(X), X)"
   ]
  },
  {
   "cell_type": "code",
   "execution_count": 18,
   "metadata": {},
   "outputs": [
    {
     "ename": "UndefVarError",
     "evalue": "UndefVarError: `c_sum_fastmath` not defined in `Main`\nSuggestion: check for spelling errors or missing imports.",
     "output_type": "error",
     "traceback": [
      "UndefVarError: `c_sum_fastmath` not defined in `Main`\n",
      "Suggestion: check for spelling errors or missing imports.\n",
      "\n",
      "Stacktrace:\n",
      " [1] top-level scope\n",
      "   @ C:\\Users\\user\\.julia\\packages\\BenchmarkTools\\1i1mY\\src\\execution.jl:512"
     ]
    }
   ],
   "source": [
    "c_fastmath_bench = @benchmark $c_sum_fastmath($a)"
   ]
  },
  {
   "cell_type": "code",
   "execution_count": 19,
   "metadata": {},
   "outputs": [
    {
     "ename": "UndefVarError",
     "evalue": "UndefVarError: `c_fastmath_bench` not defined in `Main`\nSuggestion: check for spelling errors or missing imports.",
     "output_type": "error",
     "traceback": [
      "UndefVarError: `c_fastmath_bench` not defined in `Main`\n",
      "Suggestion: check for spelling errors or missing imports.\n",
      "\n",
      "Stacktrace:\n",
      " [1] top-level scope\n",
      "   @ c:\\Users\\user\\Documents\\Julia_Projects\\Introduction-to-Julia\\jl_notebook_cell_df34fa98e69747e1a8f8a730347b8e2f_X42sZmlsZQ==.jl:1"
     ]
    }
   ],
   "source": [
    "d[\"C -ffast-math\"] = minimum(c_fastmath_bench.times) / 1e6  # in milliseconds"
   ]
  },
  {
   "cell_type": "markdown",
   "metadata": {},
   "source": [
    "# 3. Python's built in `sum` "
   ]
  },
  {
   "cell_type": "markdown",
   "metadata": {},
   "source": [
    "The `PyCall` package provides a Julia interface to Python:"
   ]
  },
  {
   "cell_type": "code",
   "execution_count": 20,
   "metadata": {
    "scrolled": true
   },
   "outputs": [
    {
     "name": "stderr",
     "output_type": "stream",
     "text": [
      "\u001b[32m\u001b[1m    Updating\u001b[22m\u001b[39m registry at `C:\\Users\\user\\.julia\\registries\\General.toml`\n",
      "\u001b[32m\u001b[1m   Resolving\u001b[22m\u001b[39m package versions...\n",
      "\u001b[36m\u001b[1m     Project\u001b[22m\u001b[39m No packages added to or removed from `C:\\Users\\user\\Documents\\Julia_Projects\\Introduction-to-Julia\\Project.toml`\n",
      "\u001b[36m\u001b[1m    Manifest\u001b[22m\u001b[39m No packages added to or removed from `C:\\Users\\user\\Documents\\Julia_Projects\\Introduction-to-Julia\\Manifest.toml`\n",
      "\u001b[32m\u001b[1mPrecompiling\u001b[22m\u001b[39m packages...\n",
      "            \u001b[91m  ✗ \u001b[39mPyCall\n",
      "  0 dependencies successfully precompiled in 7 seconds. 189 already precompiled.\n",
      "\n",
      "The following 1 direct dependency failed to precompile:\n",
      "\n",
      "PyCall \n",
      "\n",
      "Failed to precompile PyCall [438e738f-606a-5dbb-bf0a-cddfbfd45ab0] to \"C:\\\\Users\\\\user\\\\.julia\\\\compiled\\\\v1.12\\\\PyCall\\\\jl_46A2.tmp\".\n",
      "\u001b[91m\u001b[1mERROR: \u001b[22m\u001b[39mLoadError: PyCall not properly installed. Please run Pkg.build(\"PyCall\")\n",
      "Stacktrace:\n",
      "  [1] \u001b[0m\u001b[1merror\u001b[22m\u001b[0m\u001b[1m(\u001b[22m\u001b[90ms\u001b[39m::\u001b[0mString\u001b[0m\u001b[1m)\u001b[22m\n",
      "\u001b[90m    @\u001b[39m \u001b[90mBase\u001b[39m \u001b[90m.\\\u001b[39m\u001b[90m\u001b[4merror.jl:44\u001b[24m\u001b[39m\n",
      "  [2] top-level scope\n",
      "\u001b[90m    @\u001b[39m \u001b[90mC:\\Users\\user\\.julia\\packages\\PyCall\\1gn3u\\src\\\u001b[39m\u001b[90m\u001b[4mstartup.jl:44\u001b[24m\u001b[39m\n",
      "  [3] \u001b[0m\u001b[1minclude\u001b[22m\u001b[0m\u001b[1m(\u001b[22m\u001b[90mmapexpr\u001b[39m::\u001b[0mFunction, \u001b[90mmod\u001b[39m::\u001b[0mModule, \u001b[90m_path\u001b[39m::\u001b[0mString\u001b[0m\u001b[1m)\u001b[22m\n",
      "\u001b[90m    @\u001b[39m \u001b[90mBase\u001b[39m \u001b[90m.\\\u001b[39m\u001b[90m\u001b[4mBase.jl:307\u001b[24m\u001b[39m\n",
      "  [4] top-level scope\n",
      "\u001b[90m    @\u001b[39m \u001b[90mC:\\Users\\user\\.julia\\packages\\PyCall\\1gn3u\\src\\\u001b[39m\u001b[90m\u001b[4mPyCall.jl:38\u001b[24m\u001b[39m\n",
      "  [5] \u001b[0m\u001b[1minclude\u001b[22m\u001b[0m\u001b[1m(\u001b[22m\u001b[90mmod\u001b[39m::\u001b[0mModule, \u001b[90m_path\u001b[39m::\u001b[0mString\u001b[0m\u001b[1m)\u001b[22m\n",
      "\u001b[90m    @\u001b[39m \u001b[90mBase\u001b[39m \u001b[90m.\\\u001b[39m\u001b[90m\u001b[4mBase.jl:306\u001b[24m\u001b[39m\n",
      "  [6] \u001b[0m\u001b[1minclude_package_for_output\u001b[22m\u001b[0m\u001b[1m(\u001b[22m\u001b[90mpkg\u001b[39m::\u001b[0mBase.PkgId, \u001b[90minput\u001b[39m::\u001b[0mString, \u001b[90mdepot_path\u001b[39m::\u001b[0mVector\u001b[90m{String}\u001b[39m, \u001b[90mdl_load_path\u001b[39m::\u001b[0mVector\u001b[90m{String}\u001b[39m, \u001b[90mload_path\u001b[39m::\u001b[0mVector\u001b[90m{String}\u001b[39m, \u001b[90mconcrete_deps\u001b[39m::\u001b[0mVector\u001b[90m{Pair{Base.PkgId, UInt128}}\u001b[39m, \u001b[90msource\u001b[39m::\u001b[0mNothing\u001b[0m\u001b[1m)\u001b[22m\n",
      "\u001b[90m    @\u001b[39m \u001b[90mBase\u001b[39m \u001b[90m.\\\u001b[39m\u001b[90m\u001b[4mloading.jl:2997\u001b[24m\u001b[39m\n",
      "  [7] top-level scope\n",
      "\u001b[90m    @\u001b[39m \u001b[90m\u001b[4mstdin:5\u001b[24m\u001b[39m\n",
      "  [8] \u001b[0m\u001b[1meval\u001b[22m\u001b[0m\u001b[1m(\u001b[22m\u001b[90mm\u001b[39m::\u001b[0mModule, \u001b[90me\u001b[39m::\u001b[0mAny\u001b[0m\u001b[1m)\u001b[22m\n",
      "\u001b[90m    @\u001b[39m \u001b[90mCore\u001b[39m \u001b[90m.\\\u001b[39m\u001b[90m\u001b[4mboot.jl:489\u001b[24m\u001b[39m\n",
      "  [9] \u001b[0m\u001b[1minclude_string\u001b[22m\u001b[0m\u001b[1m(\u001b[22m\u001b[90mmapexpr\u001b[39m::\u001b[0mtypeof(identity), \u001b[90mmod\u001b[39m::\u001b[0mModule, \u001b[90mcode\u001b[39m::\u001b[0mString, \u001b[90mfilename\u001b[39m::\u001b[0mString\u001b[0m\u001b[1m)\u001b[22m\n",
      "\u001b[90m    @\u001b[39m \u001b[90mBase\u001b[39m \u001b[90m.\\\u001b[39m\u001b[90m\u001b[4mloading.jl:2843\u001b[24m\u001b[39m\n",
      " [10] \u001b[0m\u001b[1minclude_string\u001b[22m\n",
      "\u001b[90m    @\u001b[39m \u001b[90m.\\\u001b[39m\u001b[90m\u001b[4mloading.jl:2853\u001b[24m\u001b[39m\u001b[90m [inlined]\u001b[39m\n",
      " [11] \u001b[0m\u001b[1mexec_options\u001b[22m\u001b[0m\u001b[1m(\u001b[22m\u001b[90mopts\u001b[39m::\u001b[0mBase.JLOptions\u001b[0m\u001b[1m)\u001b[22m\n",
      "\u001b[90m    @\u001b[39m \u001b[90mBase\u001b[39m \u001b[90m.\\\u001b[39m\u001b[90m\u001b[4mclient.jl:315\u001b[24m\u001b[39m\n",
      " [12] \u001b[0m\u001b[1m_start\u001b[22m\u001b[0m\u001b[1m(\u001b[22m\u001b[0m\u001b[1m)\u001b[22m\n",
      "\u001b[90m    @\u001b[39m \u001b[90mBase\u001b[39m \u001b[90m.\\\u001b[39m\u001b[90m\u001b[4mclient.jl:550\u001b[24m\u001b[39m\n",
      "in expression starting at C:\\Users\\user\\.julia\\packages\\PyCall\\1gn3u\\src\\startup.jl:41\n",
      "in expression starting at C:\\Users\\user\\.julia\\packages\\PyCall\\1gn3u\\src\\PyCall.jl:1\n",
      "in expression starting at stdin:\n",
      "SYSTEM: caught exception of type :MethodError while trying to print a failed Task notice; giving up\n",
      "\u001b[91m\u001b[1mERROR: \u001b[22m\u001b[39mLoadError: PyCall not properly installed. Please run Pkg.build(\"PyCall\")\n",
      "Stacktrace:\n",
      "  [1] \u001b[0m\u001b[1merror\u001b[22m\u001b[0m\u001b[1m(\u001b[22m\u001b[90ms\u001b[39m::\u001b[0mString\u001b[0m\u001b[1m)\u001b[22m\n",
      "\u001b[90m    @\u001b[39m \u001b[90mBase\u001b[39m \u001b[90m.\\\u001b[39m\u001b[90m\u001b[4merror.jl:44\u001b[24m\u001b[39m\n",
      "  [2] top-level scope\n",
      "\u001b[90m    @\u001b[39m \u001b[90mC:\\Users\\user\\.julia\\packages\\PyCall\\1gn3u\\src\\\u001b[39m\u001b[90m\u001b[4mstartup.jl:44\u001b[24m\u001b[39m\n",
      "  [3] \u001b[0m\u001b[1minclude\u001b[22m\u001b[0m\u001b[1m(\u001b[22m\u001b[90mmapexpr\u001b[39m::\u001b[0mFunction, \u001b[90mmod\u001b[39m::\u001b[0mModule, \u001b[90m_path\u001b[39m::\u001b[0mString\u001b[0m\u001b[1m)\u001b[22m\n",
      "\u001b[90m    @\u001b[39m \u001b[90mBase\u001b[39m \u001b[90m.\\\u001b[39m\u001b[90m\u001b[4mBase.jl:307\u001b[24m\u001b[39m\n",
      "  [4] top-level scope\n",
      "\u001b[90m    @\u001b[39m \u001b[90mC:\\Users\\user\\.julia\\packages\\PyCall\\1gn3u\\src\\\u001b[39m\u001b[90m\u001b[4mPyCall.jl:38\u001b[24m\u001b[39m\n",
      "  [5] \u001b[0m\u001b[1minclude\u001b[22m\u001b[0m\u001b[1m(\u001b[22m\u001b[90mmod\u001b[39m::\u001b[0mModule, \u001b[90m_path\u001b[39m::\u001b[0mString\u001b[0m\u001b[1m)\u001b[22m\n",
      "\u001b[90m    @\u001b[39m \u001b[90mBase\u001b[39m \u001b[90m.\\\u001b[39m\u001b[90m\u001b[4mBase.jl:306\u001b[24m\u001b[39m\n",
      "  [6] \u001b[0m\u001b[1minclude_package_for_output\u001b[22m\u001b[0m\u001b[1m(\u001b[22m\u001b[90mpkg\u001b[39m::\u001b[0mBase.PkgId, \u001b[90minput\u001b[39m::\u001b[0mString, \u001b[90mdepot_path\u001b[39m::\u001b[0mVector\u001b[90m{String}\u001b[39m, \u001b[90mdl_load_path\u001b[39m::\u001b[0mVector\u001b[90m{String}\u001b[39m, \u001b[90mload_path\u001b[39m::\u001b[0mVector\u001b[90m{String}\u001b[39m, \u001b[90mconcrete_deps\u001b[39m::\u001b[0mVector\u001b[90m{Pair{Base.PkgId, UInt128}}\u001b[39m, \u001b[90msource\u001b[39m::\u001b[0mString\u001b[0m\u001b[1m)\u001b[22m\n",
      "\u001b[90m    @\u001b[39m \u001b[90mBase\u001b[39m \u001b[90m.\\\u001b[39m\u001b[90m\u001b[4mloading.jl:2997\u001b[24m\u001b[39m\n",
      "  [7] top-level scope\n",
      "\u001b[90m    @\u001b[39m \u001b[90m\u001b[4mstdin:5\u001b[24m\u001b[39m\n",
      "  [8] \u001b[0m\u001b[1meval\u001b[22m\u001b[0m\u001b[1m(\u001b[22m\u001b[90mm\u001b[39m::\u001b[0mModule, \u001b[90me\u001b[39m::\u001b[0mAny\u001b[0m\u001b[1m)\u001b[22m\n",
      "\u001b[90m    @\u001b[39m \u001b[90mCore\u001b[39m \u001b[90m.\\\u001b[39m\u001b[90m\u001b[4mboot.jl:489\u001b[24m\u001b[39m\n",
      "  [9] \u001b[0m\u001b[1minclude_string\u001b[22m\u001b[0m\u001b[1m(\u001b[22m\u001b[90mmapexpr\u001b[39m::\u001b[0mtypeof(identity), \u001b[90mmod\u001b[39m::\u001b[0mModule, \u001b[90mcode\u001b[39m::\u001b[0mString, \u001b[90mfilename\u001b[39m::\u001b[0mString\u001b[0m\u001b[1m)\u001b[22m\n",
      "\u001b[90m    @\u001b[39m \u001b[90mBase\u001b[39m \u001b[90m.\\\u001b[39m\u001b[90m\u001b[4mloading.jl:2843\u001b[24m\u001b[39m\n",
      " [10] \u001b[0m\u001b[1minclude_string\u001b[22m\n",
      "\u001b[90m    @\u001b[39m \u001b[90m.\\\u001b[39m\u001b[90m\u001b[4mloading.jl:2853\u001b[24m\u001b[39m\u001b[90m [inlined]\u001b[39m\n",
      " [11] \u001b[0m\u001b[1mexec_options\u001b[22m\u001b[0m\u001b[1m(\u001b[22m\u001b[90mopts\u001b[39m::\u001b[0mBase.JLOptions\u001b[0m\u001b[1m)\u001b[22m\n",
      "\u001b[90m    @\u001b[39m \u001b[90mBase\u001b[39m \u001b[90m.\\\u001b[39m\u001b[90m\u001b[4mclient.jl:315\u001b[24m\u001b[39m\n",
      " [12] \u001b[0m\u001b[1m_start\u001b[22m\u001b[0m\u001b[1m(\u001b[22m\u001b[0m\u001b[1m)\u001b[22m\n",
      "\u001b[90m    @\u001b[39m \u001b[90mBase\u001b[39m \u001b[90m.\\\u001b[39m\u001b[90m\u001b[4mclient.jl:550\u001b[24m\u001b[39m\n",
      "in expression starting at C:\\Users\\user\\.julia\\packages\\PyCall\\1gn3u\\src\\startup.jl:41\n",
      "in expression starting at C:\\Users\\user\\.julia\\packages\\PyCall\\1gn3u\\src\\PyCall.jl:1\n",
      "in expression starting at stdin:5\n"
     ]
    },
    {
     "ename": "ErrorException",
     "evalue": "Failed to precompile PyCall [438e738f-606a-5dbb-bf0a-cddfbfd45ab0] to \"C:\\\\Users\\\\user\\\\.julia\\\\compiled\\\\v1.12\\\\PyCall\\\\jl_4F02.tmp\".",
     "output_type": "error",
     "traceback": [
      "Failed to precompile PyCall [438e738f-606a-5dbb-bf0a-cddfbfd45ab0] to \"C:\\\\Users\\\\user\\\\.julia\\\\compiled\\\\v1.12\\\\PyCall\\\\jl_4F02.tmp\".\n",
      "\n",
      "Stacktrace:\n",
      "  [1] error(s::String)\n",
      "    @ Base .\\error.jl:44\n",
      "  [2] compilecache(pkg::Base.PkgId, path::String, internal_stderr::IO, internal_stdout::IO, keep_loaded_modules::Bool; flags::Cmd, cacheflags::Base.CacheFlags, reasons::Dict{String, Int64}, loadable_exts::Nothing)\n",
      "    @ Base .\\loading.jl:3284\n",
      "  [3] (::Base.var\"#__require_prelocked##0#__require_prelocked##1\"{Base.PkgId, String, Dict{String, Int64}})()\n",
      "    @ Base .\\loading.jl:2652\n",
      "  [4] mkpidlock(f::Base.var\"#__require_prelocked##0#__require_prelocked##1\"{Base.PkgId, String, Dict{String, Int64}}, at::String, pid::Int32; kwopts::@Kwargs{stale_age::Int64, wait::Bool})\n",
      "    @ FileWatching.Pidfile C:\\Users\\user\\.julia\\juliaup\\julia-1.12.0+0.x64.w64.mingw32\\share\\julia\\stdlib\\v1.12\\FileWatching\\src\\pidfile.jl:93\n",
      "  [5] #mkpidlock#7\n",
      "    @ C:\\Users\\user\\.julia\\juliaup\\julia-1.12.0+0.x64.w64.mingw32\\share\\julia\\stdlib\\v1.12\\FileWatching\\src\\pidfile.jl:88 [inlined]\n",
      "  [6] trymkpidlock(::Function, ::Vararg{Any}; kwargs::@Kwargs{stale_age::Int64})\n",
      "    @ FileWatching.Pidfile C:\\Users\\user\\.julia\\juliaup\\julia-1.12.0+0.x64.w64.mingw32\\share\\julia\\stdlib\\v1.12\\FileWatching\\src\\pidfile.jl:114\n",
      "  [7] #invokelatest_gr#232\n",
      "    @ .\\reflection.jl:1282 [inlined]\n",
      "  [8] invokelatest_gr\n",
      "    @ .\\reflection.jl:1274 [inlined]\n",
      "  [9] maybe_cachefile_lock(f::Base.var\"#__require_prelocked##0#__require_prelocked##1\"{Base.PkgId, String, Dict{String, Int64}}, pkg::Base.PkgId, srcpath::String; stale_age::Int64)\n",
      "    @ Base .\\loading.jl:3855\n",
      " [10] maybe_cachefile_lock\n",
      "    @ .\\loading.jl:3852 [inlined]\n",
      " [11] __require_prelocked(pkg::Base.PkgId, env::String)\n",
      "    @ Base .\\loading.jl:2638\n",
      " [12] _require_prelocked(uuidkey::Base.PkgId, env::String)\n",
      "    @ Base .\\loading.jl:2465\n",
      " [13] macro expansion\n",
      "    @ .\\loading.jl:2393 [inlined]\n",
      " [14] macro expansion\n",
      "    @ .\\lock.jl:376 [inlined]\n",
      " [15] __require(into::Module, mod::Symbol)\n",
      "    @ Base .\\loading.jl:2358\n",
      " [16] require(into::Module, mod::Symbol)\n",
      "    @ Base .\\loading.jl:2334\n",
      " [17] eval(m::Module, e::Any)\n",
      "    @ Core .\\boot.jl:489\n",
      " [18] include_string(mapexpr::typeof(REPL.softscope), mod::Module, code::String, filename::String)\n",
      "    @ Base .\\loading.jl:2843\n",
      " [19] (::VSCodeServer.var\"#notebook_runcell_request##0#notebook_runcell_request##1\"{VSCodeServer.NotebookRunCellArguments, String})()\n",
      "    @ VSCodeServer c:\\Users\\user\\.vscode\\extensions\\julialang.language-julia-1.149.2\\scripts\\packages\\VSCodeServer\\src\\serve_notebook.jl:24\n",
      " [20] withpath(f::VSCodeServer.var\"#notebook_runcell_request##0#notebook_runcell_request##1\"{VSCodeServer.NotebookRunCellArguments, String}, path::String)\n",
      "    @ VSCodeServer c:\\Users\\user\\.vscode\\extensions\\julialang.language-julia-1.149.2\\scripts\\packages\\VSCodeServer\\src\\repl.jl:276\n",
      " [21] notebook_runcell_request(conn::VSCodeServer.JSONRPC.JSONRPCEndpoint{Base.PipeEndpoint, Base.PipeEndpoint, VSCodeServer.JSON.Serializations.StandardSerialization}, params::VSCodeServer.NotebookRunCellArguments, token::VSCodeServer.CancellationTokens.CancellationToken)\n",
      "    @ VSCodeServer c:\\Users\\user\\.vscode\\extensions\\julialang.language-julia-1.149.2\\scripts\\packages\\VSCodeServer\\src\\serve_notebook.jl:13\n",
      " [22] dispatch_msg(x::VSCodeServer.JSONRPC.JSONRPCEndpoint{Base.PipeEndpoint, Base.PipeEndpoint, VSCodeServer.JSON.Serializations.StandardSerialization}, dispatcher::VSCodeServer.JSONRPC.MsgDispatcher, msg::VSCodeServer.JSONRPC.Request)\n",
      "    @ VSCodeServer.JSONRPC c:\\Users\\user\\.vscode\\extensions\\julialang.language-julia-1.149.2\\scripts\\packages\\JSONRPC\\src\\typed.jl:68\n",
      " [23] serve_notebook(pipename::String, debugger_pipename::String, outputchannel_logger::Base.CoreLogging.SimpleLogger; error_handler::var\"#14#15\"{String})\n",
      "    @ VSCodeServer c:\\Users\\user\\.vscode\\extensions\\julialang.language-julia-1.149.2\\scripts\\packages\\VSCodeServer\\src\\serve_notebook.jl:147\n",
      " [24] top-level scope\n",
      "    @ c:\\Users\\user\\.vscode\\extensions\\julialang.language-julia-1.149.2\\scripts\\notebook\\notebook.jl:35"
     ]
    }
   ],
   "source": [
    "using Pkg; Pkg.add(\"PyCall\")\n",
    "using PyCall"
   ]
  },
  {
   "cell_type": "code",
   "execution_count": 21,
   "metadata": {},
   "outputs": [
    {
     "ename": "UndefVarError",
     "evalue": "UndefVarError: `pybuiltin` not defined in `Main`\nSuggestion: check for spelling errors or missing imports.",
     "output_type": "error",
     "traceback": [
      "UndefVarError: `pybuiltin` not defined in `Main`\n",
      "Suggestion: check for spelling errors or missing imports.\n",
      "\n",
      "Stacktrace:\n",
      " [1] top-level scope\n",
      "   @ c:\\Users\\user\\Documents\\Julia_Projects\\Introduction-to-Julia\\jl_notebook_cell_df34fa98e69747e1a8f8a730347b8e2f_X46sZmlsZQ==.jl:2"
     ]
    }
   ],
   "source": [
    "# get the Python built-in \"sum\" function:\n",
    "pysum = pybuiltin(\"sum\")"
   ]
  },
  {
   "cell_type": "code",
   "execution_count": 22,
   "metadata": {},
   "outputs": [
    {
     "ename": "UndefVarError",
     "evalue": "UndefVarError: `pysum` not defined in `Main`\nSuggestion: add an appropriate import or assignment. This global was declared but not assigned.",
     "output_type": "error",
     "traceback": [
      "UndefVarError: `pysum` not defined in `Main`\n",
      "Suggestion: add an appropriate import or assignment. This global was declared but not assigned.\n",
      "\n",
      "Stacktrace:\n",
      " [1] top-level scope\n",
      "   @ c:\\Users\\user\\Documents\\Julia_Projects\\Introduction-to-Julia\\jl_notebook_cell_df34fa98e69747e1a8f8a730347b8e2f_X50sZmlsZQ==.jl:1"
     ]
    }
   ],
   "source": [
    "pysum(a)"
   ]
  },
  {
   "cell_type": "code",
   "execution_count": 23,
   "metadata": {},
   "outputs": [
    {
     "ename": "UndefVarError",
     "evalue": "UndefVarError: `pysum` not defined in `Main`\nSuggestion: add an appropriate import or assignment. This global was declared but not assigned.",
     "output_type": "error",
     "traceback": [
      "UndefVarError: `pysum` not defined in `Main`\n",
      "Suggestion: add an appropriate import or assignment. This global was declared but not assigned.\n",
      "\n",
      "Stacktrace:\n",
      " [1] top-level scope\n",
      "   @ c:\\Users\\user\\Documents\\Julia_Projects\\Introduction-to-Julia\\jl_notebook_cell_df34fa98e69747e1a8f8a730347b8e2f_X51sZmlsZQ==.jl:1"
     ]
    }
   ],
   "source": [
    "pysum(a) ≈ sum(a)"
   ]
  },
  {
   "cell_type": "code",
   "execution_count": 24,
   "metadata": {},
   "outputs": [
    {
     "ename": "UndefVarError",
     "evalue": "UndefVarError: `pysum` not defined in `Main`\nSuggestion: add an appropriate import or assignment. This global was declared but not assigned.",
     "output_type": "error",
     "traceback": [
      "UndefVarError: `pysum` not defined in `Main`\n",
      "Suggestion: add an appropriate import or assignment. This global was declared but not assigned.\n",
      "\n",
      "Stacktrace:\n",
      " [1] top-level scope\n",
      "   @ C:\\Users\\user\\.julia\\packages\\BenchmarkTools\\1i1mY\\src\\execution.jl:512"
     ]
    }
   ],
   "source": [
    "py_list_bench = @benchmark $pysum($a)"
   ]
  },
  {
   "cell_type": "code",
   "execution_count": 25,
   "metadata": {},
   "outputs": [
    {
     "ename": "UndefVarError",
     "evalue": "UndefVarError: `py_list_bench` not defined in `Main`\nSuggestion: check for spelling errors or missing imports.",
     "output_type": "error",
     "traceback": [
      "UndefVarError: `py_list_bench` not defined in `Main`\n",
      "Suggestion: check for spelling errors or missing imports.\n",
      "\n",
      "Stacktrace:\n",
      " [1] top-level scope\n",
      "   @ c:\\Users\\user\\Documents\\Julia_Projects\\Introduction-to-Julia\\jl_notebook_cell_df34fa98e69747e1a8f8a730347b8e2f_X53sZmlsZQ==.jl:1"
     ]
    }
   ],
   "source": [
    "d[\"Python built-in\"] = minimum(py_list_bench.times) / 1e6\n",
    "d"
   ]
  },
  {
   "cell_type": "markdown",
   "metadata": {},
   "source": [
    "# 4. Python: `numpy` \n",
    "\n",
    "## Takes advantage of hardware \"SIMD\", but only works when it works.\n",
    "\n",
    "`numpy` is an optimized C library, callable from Python.\n",
    "It may be installed within Julia as follows:"
   ]
  },
  {
   "cell_type": "code",
   "execution_count": 26,
   "metadata": {},
   "outputs": [
    {
     "name": "stderr",
     "output_type": "stream",
     "text": [
      "\u001b[32m\u001b[1m   Resolving\u001b[22m\u001b[39m package versions...\n",
      "\u001b[36m\u001b[1m     Project\u001b[22m\u001b[39m No packages added to or removed from `C:\\Users\\user\\Documents\\Julia_Projects\\Introduction-to-Julia\\Project.toml`\n",
      "\u001b[36m\u001b[1m    Manifest\u001b[22m\u001b[39m No packages added to or removed from `C:\\Users\\user\\Documents\\Julia_Projects\\Introduction-to-Julia\\Manifest.toml`\n",
      "\u001b[32m\u001b[1mPrecompiling\u001b[22m\u001b[39m packages...\n",
      "            \u001b[91m  ✗ \u001b[39mPyCall\n",
      "  0 dependencies successfully precompiled in 3 seconds. 189 already precompiled.\n",
      "\n",
      "The following 1 direct dependency failed to precompile:\n",
      "\n",
      "PyCall \n",
      "\n",
      "Failed to precompile PyCall [438e738f-606a-5dbb-bf0a-cddfbfd45ab0] to \"C:\\\\Users\\\\user\\\\.julia\\\\compiled\\\\v1.12\\\\PyCall\\\\jl_6442.tmp\".\n",
      "\u001b[91m\u001b[1mERROR: \u001b[22m\u001b[39mLoadError: PyCall not properly installed. Please run Pkg.build(\"PyCall\")\n",
      "Stacktrace:\n",
      "  [1] \u001b[0m\u001b[1merror\u001b[22m\u001b[0m\u001b[1m(\u001b[22m\u001b[90ms\u001b[39m::\u001b[0mString\u001b[0m\u001b[1m)\u001b[22m\n",
      "\u001b[90m    @\u001b[39m \u001b[90mBase\u001b[39m \u001b[90m.\\\u001b[39m\u001b[90m\u001b[4merror.jl:44\u001b[24m\u001b[39m\n",
      "  [2] top-level scope\n",
      "\u001b[90m    @\u001b[39m \u001b[90mC:\\Users\\user\\.julia\\packages\\PyCall\\1gn3u\\src\\\u001b[39m\u001b[90m\u001b[4mstartup.jl:44\u001b[24m\u001b[39m\n",
      "  [3] \u001b[0m\u001b[1minclude\u001b[22m\u001b[0m\u001b[1m(\u001b[22m\u001b[90mmapexpr\u001b[39m::\u001b[0mFunction, \u001b[90mmod\u001b[39m::\u001b[0mModule, \u001b[90m_path\u001b[39m::\u001b[0mString\u001b[0m\u001b[1m)\u001b[22m\n",
      "\u001b[90m    @\u001b[39m \u001b[90mBase\u001b[39m \u001b[90m.\\\u001b[39m\u001b[90m\u001b[4mBase.jl:307\u001b[24m\u001b[39m\n",
      "  [4] top-level scope\n",
      "\u001b[90m    @\u001b[39m \u001b[90mC:\\Users\\user\\.julia\\packages\\PyCall\\1gn3u\\src\\\u001b[39m\u001b[90m\u001b[4mPyCall.jl:38\u001b[24m\u001b[39m\n",
      "  [5] \u001b[0m\u001b[1minclude\u001b[22m\u001b[0m\u001b[1m(\u001b[22m\u001b[90mmod\u001b[39m::\u001b[0mModule, \u001b[90m_path\u001b[39m::\u001b[0mString\u001b[0m\u001b[1m)\u001b[22m\n",
      "\u001b[90m    @\u001b[39m \u001b[90mBase\u001b[39m \u001b[90m.\\\u001b[39m\u001b[90m\u001b[4mBase.jl:306\u001b[24m\u001b[39m\n",
      "  [6] \u001b[0m\u001b[1minclude_package_for_output\u001b[22m\u001b[0m\u001b[1m(\u001b[22m\u001b[90mpkg\u001b[39m::\u001b[0mBase.PkgId, \u001b[90minput\u001b[39m::\u001b[0mString, \u001b[90mdepot_path\u001b[39m::\u001b[0mVector\u001b[90m{String}\u001b[39m, \u001b[90mdl_load_path\u001b[39m::\u001b[0mVector\u001b[90m{String}\u001b[39m, \u001b[90mload_path\u001b[39m::\u001b[0mVector\u001b[90m{String}\u001b[39m, \u001b[90mconcrete_deps\u001b[39m::\u001b[0mVector\u001b[90m{Pair{Base.PkgId, UInt128}}\u001b[39m, \u001b[90msource\u001b[39m::\u001b[0mNothing\u001b[0m\u001b[1m)\u001b[22m\n",
      "\u001b[90m    @\u001b[39m \u001b[90mBase\u001b[39m \u001b[90m.\\\u001b[39m\u001b[90m\u001b[4mloading.jl:2997\u001b[24m\u001b[39m\n",
      "  [7] top-level scope\n",
      "\u001b[90m    @\u001b[39m \u001b[90m\u001b[4mstdin:5\u001b[24m\u001b[39m\n",
      "  [8] \u001b[0m\u001b[1meval\u001b[22m\u001b[0m\u001b[1m(\u001b[22m\u001b[90mm\u001b[39m::\u001b[0mModule, \u001b[90me\u001b[39m::\u001b[0mAny\u001b[0m\u001b[1m)\u001b[22m\n",
      "\u001b[90m    @\u001b[39m \u001b[90mCore\u001b[39m \u001b[90m.\\\u001b[39m\u001b[90m\u001b[4mboot.jl:489\u001b[24m\u001b[39m\n",
      "  [9] \u001b[0m\u001b[1minclude_string\u001b[22m\u001b[0m\u001b[1m(\u001b[22m\u001b[90mmapexpr\u001b[39m::\u001b[0mtypeof(identity), \u001b[90mmod\u001b[39m::\u001b[0mModule, \u001b[90mcode\u001b[39m::\u001b[0mString, \u001b[90mfilename\u001b[39m::\u001b[0mString\u001b[0m\u001b[1m)\u001b[22m\n",
      "\u001b[90m    @\u001b[39m \u001b[90mBase\u001b[39m \u001b[90m.\\\u001b[39m\u001b[90m\u001b[4mloading.jl:2843\u001b[24m\u001b[39m\n",
      " [10] \u001b[0m\u001b[1minclude_string\u001b[22m\n",
      "\u001b[90m    @\u001b[39m \u001b[90m.\\\u001b[39m\u001b[90m\u001b[4mloading.jl:2853\u001b[24m\u001b[39m\u001b[90m [inlined]\u001b[39m\n",
      " [11] \u001b[0m\u001b[1mexec_options\u001b[22m\u001b[0m\u001b[1m(\u001b[22m\u001b[90mopts\u001b[39m::\u001b[0mBase.JLOptions\u001b[0m\u001b[1m)\u001b[22m\n",
      "\u001b[90m    @\u001b[39m \u001b[90mBase\u001b[39m \u001b[90m.\\\u001b[39m\u001b[90m\u001b[4mclient.jl:315\u001b[24m\u001b[39m\n",
      " [12] \u001b[0m\u001b[1m_start\u001b[22m\u001b[0m\u001b[1m(\u001b[22m\u001b[0m\u001b[1m)\u001b[22m\n",
      "\u001b[90m    @\u001b[39m \u001b[90mBase\u001b[39m \u001b[90m.\\\u001b[39m\u001b[90m\u001b[4mclient.jl:550\u001b[24m\u001b[39m\n",
      "in expression starting at C:\\Users\\user\\.julia\\packages\\PyCall\\1gn3u\\src\\startup.jl:41\n",
      "in expression starting at C:\\Users\\user\\.julia\\packages\\PyCall\\1gn3u\\src\\PyCall.jl:1\n",
      "in expression starting at stdin:"
     ]
    }
   ],
   "source": [
    "using Pkg; Pkg.add(\"Conda\")\n",
    "using Conda"
   ]
  },
  {
   "cell_type": "code",
   "execution_count": 27,
   "metadata": {},
   "outputs": [
    {
     "name": "stderr",
     "output_type": "stream",
     "text": [
      "┌ Info: Running `conda install -y numpy` in root environment\n",
      "└ @ Conda C:\\Users\\user\\.julia\\packages\\Conda\\zReqD\\src\\Conda.jl:181\n"
     ]
    },
    {
     "name": "stdout",
     "output_type": "stream",
     "text": [
      "Retrieving notices: - "
     ]
    },
    {
     "name": "stderr",
     "output_type": "stream",
     "text": [
      "C:\\Users\\user\\.julia\\conda\\3\\x86_64\\Lib\\site-packages\\conda\\base\\context.py:198: FutureWarning: Adding 'defaults' to channel list implicitly is deprecated and will be removed in 25.9. \n",
      "\n",
      "To remove this warning, please choose a default channel explicitly with conda's regular configuration system, e.g. by adding 'defaults' to the list of channels:\n",
      "\n",
      "  conda config --add channels defaults\n",
      "\n",
      "For more information see https://docs.conda.io/projects/conda/en/stable/user-guide/configuration/use-condarc.html\n",
      "\n",
      "  deprecated.topic(\n"
     ]
    },
    {
     "name": "stdout",
     "output_type": "stream",
     "text": [
      "done\n",
      "Channels:\n",
      " - defaults\n",
      "Platform: win-64\n",
      "Collecting package metadata (repodata.json): ...working... done\n",
      "Solving environment: ...working... failed\n"
     ]
    },
    {
     "name": "stderr",
     "output_type": "stream",
     "text": [
      "\n",
      "LibMambaUnsatisfiableError: Encountered problems while solving:\n",
      "  - nothing provides numpy-base 1.23.3 py310h04254f7_1 needed by numpy-1.23.3-py310h60c9a35_1\n",
      "\n",
      "Could not solve for environment specs\n",
      "The following packages are incompatible\n",
      "├─ numpy =* * is installable with the potential options\n",
      "│  ├─ numpy [1.11.3|1.12.1|...|1.9.3] would require\n",
      "│  │  └─ python >=2.7,<2.8.0a0 *, which can be installed;\n",
      "│  ├─ numpy [1.11.3|1.12.1|...|1.9.3] would require\n",
      "│  │  └─ python >=3.5,<3.6.0a0 *, which can be installed;\n",
      "│  ├─ numpy [1.11.3|1.12.1|...|1.9.3] would require\n",
      "│  │  └─ python >=3.6,<3.7.0a0 *, which can be installed;\n",
      "│  ├─ numpy [1.11.3|1.14.5|...|1.9.3] would require\n",
      "│  │  └─ python >=3.7,<3.8.0a0 *, which can be installed;\n",
      "│  ├─ numpy [1.11.3|1.13.3|...|1.24.3] would require\n",
      "│  │  └─ python >=3.8,<3.9.0a0 *, which can be installed;\n",
      "│  ├─ numpy [1.16.6|1.19.2|...|2.0.2] would require\n",
      "│  │  └─ python >=3.9,<3.10.0a0 *, which can be installed;\n",
      "│  ├─ numpy [1.21.2|1.21.5|...|2.2.5] would require\n",
      "│  │  └─ python >=3.10,<3.11.0a0 *, which can be installed;\n",
      "│  ├─ numpy [1.22.3|1.23.5|...|2.3.3] would require\n",
      "│  │  └─ python >=3.11,<3.12.0a0 *, which can be installed;\n",
      "│  ├─ numpy 1.23.3 would require\n",
      "│  │  └─ numpy-base ==1.23.3 py310h04254f7_1, which does not exist (perhaps a missing channel);\n",
      "│  ├─ numpy 1.23.3 would require\n",
      "│  │  └─ numpy-base ==1.23.3 py38h4da318b_1, which does not exist (perhaps a missing channel);\n",
      "│  ├─ numpy 1.23.3 would require\n",
      "│  │  └─ numpy-base ==1.23.3 py39h4da318b_1, which does not exist (perhaps a missing channel);\n",
      "│  ├─ numpy [1.26.0|1.26.2|1.26.3|1.26.4] would require\n",
      "│  │  └─ vs2015_runtime >=14.27.29016,<15.0a0 *, which can be installed;\n",
      "│  ├─ numpy [1.26.4|2.2.5|2.3.3] would require\n",
      "│  │  └─ mkl_random =* * with the potential options\n",
      "│  │     ├─ mkl_random 1.0.1 would require\n",
      "│  │     │  └─ python >=3.5,<3.6.0a0 *, which can be installed;\n",
      "│  │     ├─ mkl_random [1.0.1|1.0.2|...|1.2.2] would require\n",
      "│  │     │  └─ python >=3.6,<3.7.0a0 *, which can be installed;\n",
      "│  │     ├─ mkl_random [1.0.1|1.0.2|...|1.2.2] would require\n",
      "│  │     │  └─ python >=3.7,<3.8.0a0 *, which can be installed;\n",
      "│  │     ├─ mkl_random [1.0.2|1.1.0|...|1.2.4] would require\n",
      "│  │     │  └─ python >=3.8,<3.9.0a0 *, which can be installed;\n",
      "│  │     ├─ mkl_random [1.0.2|1.2.1|...|1.2.8] would require\n",
      "│  │     │  └─ python >=3.9,<3.10.0a0 *, which can be installed;\n",
      "│  │     ├─ mkl_random [1.2.2|1.2.4|1.2.7|1.2.8] would require\n",
      "│  │     │  └─ python >=3.10,<3.11.0a0 *, which can be installed;\n",
      "│  │     ├─ mkl_random [1.2.2|1.2.4|1.2.7|1.2.8] would require\n",
      "│  │     │  └─ python >=3.11,<3.12.0a0 *, which can be installed;\n",
      "│  │     ├─ mkl_random 1.2.4 would require\n",
      "│  │     │  └─ vs2015_runtime >=14.16.27012,<15.0a0 *, which can be installed;\n",
      "│  │     ├─ mkl_random [1.2.7|1.2.8] would require\n",
      "│  │     │  └─ vs2015_runtime >=14.29.30133,<15.0a0 *, which can be installed;\n",
      "│  │     └─ mkl_random 1.2.8 would require\n",
      "│  │        └─ python >=3.13,<3.14.0a0 *, which can be installed;\n",
      "│  ├─ numpy [2.0.0|2.0.1|...|2.3.1] would require\n",
      "│  │  └─ vs2015_runtime >=14.29.30133,<15.0a0 *, which can be installed;\n",
      "│  └─ numpy [2.1.3|2.2.1|...|2.3.3] would require\n",
      "│     └─ python >=3.13,<3.14.0a0 *, which can be installed;\n",
      "├─ pin on python =3.12 * is not installable because it requires\n",
      "│  └─ python =3.12 *, which conflicts with any installable versions previously reported;\n",
      "└─ vcomp14 ==14.44.35208 * is not installable because it requires\n",
      "   └─ vs2015_runtime =14.44.35208 *_31, which conflicts with any installable versions previously reported.\n",
      "\n",
      "Pins seem to be involved in the conflict. Currently pinned specs:\n",
      " - python=3.12\n",
      "\n",
      "\n"
     ]
    },
    {
     "ename": "ProcessFailedException",
     "evalue": "failed process: Process(setenv(`'C:\\Users\\user\\.julia\\conda\\3\\x86_64\\Scripts\\conda.exe' install -y numpy`,[\"WINDIR=C:\\\\Windows\", \"PATH=C:\\\\Users\\\\user\\\\.julia\\\\conda\\\\3\\\\x86_64\\\\Library\\\\bin;C:\\\\Windows\\\\system32;C:\\\\Windows;C:\\\\Windows\\\\System32\\\\Wbem;C:\\\\Windows\\\\System32\\\\WindowsPowerShell\\\\v1.0\\\\;C:\\\\Windows\\\\System32\\\\OpenSSH\\\\;C:\\\\Program Files\\\\Git\\\\cmd;C:\\\\Program Files (x86)\\\\Pulse Secure\\\\VC142.CRT\\\\X64\\\\;C:\\\\Program Files (x86)\\\\Pulse Secure\\\\VC142.CRT\\\\X86\\\\;C:\\\\Program Files (x86)\\\\Common Files\\\\Pulse Secure\\\\TNC Client Plugin\\\\;C:\\\\Program Files\\\\dotnet\\\\;C:\\\\Program Files\\\\Git LFS;C:\\\\Users\\\\user\\\\AppData\\\\Local\\\\Programs\\\\Python\\\\Python313\\\\Scripts\\\\;C:\\\\Users\\\\user\\\\AppData\\\\Local\\\\Programs\\\\Python\\\\Python313\\\\;C:\\\\Users\\\\user\\\\AppData\\\\Local\\\\Programs\\\\Python\\\\Launcher\\\\;C:\\\\Users\\\\user\\\\AppData\\\\Local\\\\Microsoft\\\\WindowsApps;C:\\\\Users\\\\user\\\\AppData\\\\Local\\\\Programs\\\\Microsoft VS Code\\\\bin;C:\\\\Users\\\\user\\\\AppData\\\\Local\\\\Programs\\\\MiKTeX\\\\miktex\\\\bin\\\\x64\\\\;C:\\\\Program Files\\\\JetBrains\\\\PyCharm 2024.3.5\\\\bin;;C:\\\\Users\\\\user\\\\miniconda3;C:\\\\Users\\\\user\\\\miniconda3\\\\Scripts;C:\\\\Users\\\\user\\\\AppData\\\\Roaming\\\\Python\\\\Python313\\\\Scripts;;c:\\\\users\\\\user\\\\.local\\\\bin;C:\\\\Users\\\\user\\\\AppData\\\\Local\\\\Programs\\\\Julia-1.11.7\\\\bin\", \"ELECTRON_RUN_AS_NODE=1\", \"USERDOMAIN_ROAMINGPROFILE=DESKTOP-CKQTI2G\", \"VSCODE_CODE_CACHE_PATH=C:\\\\Users\\\\user\\\\AppData\\\\Roaming\\\\Code\\\\CachedData\\\\03c265b1adee71ac88f833e065f7bb956b60550a\", \"ZES_ENABLE_SYSMAN=1\", \"LOCALAPPDATA=C:\\\\Users\\\\user\\\\AppData\\\\Local\", \"HOMEPATH=\\\\Users\\\\user\", \"RTOOLS45_HOME=C:\\\\rtools45\", \"VSCODE_NLS_CONFIG={\\\"userLocale\\\":\\\"en-us\\\",\\\"osLocale\\\":\\\"en-gb\\\",\\\"resolvedLanguage\\\":\\\"en\\\",\\\"defaultMessagesFile\\\":\\\"C:\\\\\\\\Users\\\\\\\\user\\\\\\\\AppData\\\\\\\\Local\\\\\\\\Programs\\\\\\\\Microsoft VS Code\\\\\\\\resources\\\\\\\\app\\\\\\\\out\\\\\\\\nls.messages.json\\\",\\\"locale\\\":\\\"en-us\\\",\\\"availableLanguages\\\":{}}\", \"PROCESSOR_IDENTIFIER=Intel64 Family 6 Model 142 Stepping 12, GenuineIntel\", \"PYCHARM=C:\\\\Program Files\\\\JetBrains\\\\PyCharm 2024.3.5\\\\bin;\", \"NUMBER_OF_PROCESSORS=8\", \"VSCODE_PID=16536\", \"PATHEXT=.COM;.EXE;.BAT;.CMD;.VBS;.VBE;.JS;.JSE;.WSF;.WSH;.MSC\", \"SESSIONNAME=Console\", \"VSCODE_IPC_HOOK=\\\\\\\\.\\\\pipe\\\\ee27be9a-1.105.0-main-sock\", \"SYSTEMROOT=C:\\\\Windows\", \"APPDATA=C:\\\\Users\\\\user\\\\AppData\\\\Roaming\", \"PSMODULEPATH=C:\\\\Program Files\\\\WindowsPowerShell\\\\Modules;C:\\\\Windows\\\\system32\\\\WindowsPowerShell\\\\v1.0\\\\Modules\", \"COMMONPROGRAMW6432=C:\\\\Program Files\\\\Common Files\", \"PROGRAMDATA=C:\\\\ProgramData\", \"PUBLIC=C:\\\\Users\\\\Public\", \"USERDOMAIN=DESKTOP-CKQTI2G\", \"OS=Windows_NT\", \"PROCESSOR_REVISION=8e0c\", \"EFC_11964_1592913036=1\", \"TMP=C:\\\\Users\\\\user\\\\AppData\\\\Local\\\\Temp\", \"FONTCONFIG_FILE=C:\\\\Users\\\\user\\\\.julia\\\\artifacts\\\\cb74fa09f359d430ea01be69a61cd98b50ec8c22\\\\etc\\\\fonts\\\\fonts.conf\", \"VSCODE_ESM_ENTRYPOINT=vs/workbench/api/node/extensionHostProcess\", \"COMMONPROGRAMFILES(X86)=C:\\\\Program Files (x86)\\\\Common Files\", \"COMSPEC=C:\\\\Windows\\\\system32\\\\cmd.exe\", \"OPENBLAS_DEFAULT_NUM_THREADS=1\", \"ALLUSERSPROFILE=C:\\\\ProgramData\", \"VSCODE_CRASH_REPORTER_PROCESS_TYPE=extensionHost\", \"COMMONPROGRAMFILES=C:\\\\Program Files\\\\Common Files\", \"COMPUTERNAME=DESKTOP-CKQTI2G\", \"ONEDRIVE=C:\\\\Users\\\\user\\\\OneDrive\", \"VSCODE_CWD=C:\\\\Users\\\\user\\\\AppData\\\\Local\\\\Programs\\\\Microsoft VS Code\", \"VSCODE_L10N_BUNDLE_LOCATION=\", \"VSCODE_HANDLES_UNCAUGHT_ERRORS=true\", \"GRDIR=C:\\\\Users\\\\user\\\\.julia\\\\artifacts\\\\a54b856f4d0dfe6301d42d55eba59ee6c86756c2\", \"USERNAME=user\", \"__PSLOCKDOWNPOLICY=0\", \"GIT_LFS_PATH=C:\\\\Program Files\\\\Git LFS\", \"PROGRAMFILES(X86)=C:\\\\Program Files (x86)\", \"PROGRAMFILES=C:\\\\Program Files\", \"CHROME_CRASHPAD_PIPE_NAME=\\\\\\\\.\\\\pipe\\\\crashpad_16536_WZQJHNGTZKGPQWIV\", \"CONDARC=C:\\\\Users\\\\user\\\\.julia\\\\conda\\\\3\\\\x86_64\\\\condarc-julia.yml\", \"LOGONSERVER=\\\\\\\\DESKTOP-CKQTI2G\", \"ONEDRIVECONSUMER=C:\\\\Users\\\\user\\\\OneDrive\", \"USERPROFILE=C:\\\\Users\\\\user\", \"DRIVERDATA=C:\\\\Windows\\\\System32\\\\Drivers\\\\DriverData\", \"ORIGINAL_XDG_CURRENT_DESKTOP=undefined\", \"FONTCONFIG_PATH=C:\\\\Users\\\\user\\\\.julia\\\\artifacts\\\\cb74fa09f359d430ea01be69a61cd98b50ec8c22\\\\etc\\\\fonts\", \"CONDA_PREFIX=C:\\\\Users\\\\user\\\\.julia\\\\conda\\\\3\\\\x86_64\", \"FPS_BROWSER_USER_PROFILE_STRING=Default\", \"PROCESSOR_LEVEL=6\", \"SYSTEMDRIVE=C:\", \"FPS_BROWSER_APP_PROFILE_STRING=Internet Explorer\", \"PROGRAMW6432=C:\\\\Program Files\", \"TEMP=C:\\\\Users\\\\user\\\\AppData\\\\Local\\\\Temp\", \"HOMEDRIVE=C:\", \"OPENBLAS_MAIN_FREE=1\", \"PROCESSOR_ARCHITECTURE=AMD64\", \"PYTHONIOENCODING=UTF-8\"]), ProcessExited(1)) [1]\n",
     "output_type": "error",
     "traceback": [
      "failed process: Process(setenv(`'C:\\Users\\user\\.julia\\conda\\3\\x86_64\\Scripts\\conda.exe' install -y numpy`,[\"WINDIR=C:\\\\Windows\", \"PATH=C:\\\\Users\\\\user\\\\.julia\\\\conda\\\\3\\\\x86_64\\\\Library\\\\bin;C:\\\\Windows\\\\system32;C:\\\\Windows;C:\\\\Windows\\\\System32\\\\Wbem;C:\\\\Windows\\\\System32\\\\WindowsPowerShell\\\\v1.0\\\\;C:\\\\Windows\\\\System32\\\\OpenSSH\\\\;C:\\\\Program Files\\\\Git\\\\cmd;C:\\\\Program Files (x86)\\\\Pulse Secure\\\\VC142.CRT\\\\X64\\\\;C:\\\\Program Files (x86)\\\\Pulse Secure\\\\VC142.CRT\\\\X86\\\\;C:\\\\Program Files (x86)\\\\Common Files\\\\Pulse Secure\\\\TNC Client Plugin\\\\;C:\\\\Program Files\\\\dotnet\\\\;C:\\\\Program Files\\\\Git LFS;C:\\\\Users\\\\user\\\\AppData\\\\Local\\\\Programs\\\\Python\\\\Python313\\\\Scripts\\\\;C:\\\\Users\\\\user\\\\AppData\\\\Local\\\\Programs\\\\Python\\\\Python313\\\\;C:\\\\Users\\\\user\\\\AppData\\\\Local\\\\Programs\\\\Python\\\\Launcher\\\\;C:\\\\Users\\\\user\\\\AppData\\\\Local\\\\Microsoft\\\\WindowsApps;C:\\\\Users\\\\user\\\\AppData\\\\Local\\\\Programs\\\\Microsoft VS Code\\\\bin;C:\\\\Users\\\\user\\\\AppData\\\\Local\\\\Programs\\\\MiKTeX\\\\miktex\\\\bin\\\\x64\\\\;C:\\\\Program Files\\\\JetBrains\\\\PyCharm 2024.3.5\\\\bin;;C:\\\\Users\\\\user\\\\miniconda3;C:\\\\Users\\\\user\\\\miniconda3\\\\Scripts;C:\\\\Users\\\\user\\\\AppData\\\\Roaming\\\\Python\\\\Python313\\\\Scripts;;c:\\\\users\\\\user\\\\.local\\\\bin;C:\\\\Users\\\\user\\\\AppData\\\\Local\\\\Programs\\\\Julia-1.11.7\\\\bin\", \"ELECTRON_RUN_AS_NODE=1\", \"USERDOMAIN_ROAMINGPROFILE=DESKTOP-CKQTI2G\", \"VSCODE_CODE_CACHE_PATH=C:\\\\Users\\\\user\\\\AppData\\\\Roaming\\\\Code\\\\CachedData\\\\03c265b1adee71ac88f833e065f7bb956b60550a\", \"ZES_ENABLE_SYSMAN=1\", \"LOCALAPPDATA=C:\\\\Users\\\\user\\\\AppData\\\\Local\", \"HOMEPATH=\\\\Users\\\\user\", \"RTOOLS45_HOME=C:\\\\rtools45\", \"VSCODE_NLS_CONFIG={\\\"userLocale\\\":\\\"en-us\\\",\\\"osLocale\\\":\\\"en-gb\\\",\\\"resolvedLanguage\\\":\\\"en\\\",\\\"defaultMessagesFile\\\":\\\"C:\\\\\\\\Users\\\\\\\\user\\\\\\\\AppData\\\\\\\\Local\\\\\\\\Programs\\\\\\\\Microsoft VS Code\\\\\\\\resources\\\\\\\\app\\\\\\\\out\\\\\\\\nls.messages.json\\\",\\\"locale\\\":\\\"en-us\\\",\\\"availableLanguages\\\":{}}\", \"PROCESSOR_IDENTIFIER=Intel64 Family 6 Model 142 Stepping 12, GenuineIntel\", \"PYCHARM=C:\\\\Program Files\\\\JetBrains\\\\PyCharm 2024.3.5\\\\bin;\", \"NUMBER_OF_PROCESSORS=8\", \"VSCODE_PID=16536\", \"PATHEXT=.COM;.EXE;.BAT;.CMD;.VBS;.VBE;.JS;.JSE;.WSF;.WSH;.MSC\", \"SESSIONNAME=Console\", \"VSCODE_IPC_HOOK=\\\\\\\\.\\\\pipe\\\\ee27be9a-1.105.0-main-sock\", \"SYSTEMROOT=C:\\\\Windows\", \"APPDATA=C:\\\\Users\\\\user\\\\AppData\\\\Roaming\", \"PSMODULEPATH=C:\\\\Program Files\\\\WindowsPowerShell\\\\Modules;C:\\\\Windows\\\\system32\\\\WindowsPowerShell\\\\v1.0\\\\Modules\", \"COMMONPROGRAMW6432=C:\\\\Program Files\\\\Common Files\", \"PROGRAMDATA=C:\\\\ProgramData\", \"PUBLIC=C:\\\\Users\\\\Public\", \"USERDOMAIN=DESKTOP-CKQTI2G\", \"OS=Windows_NT\", \"PROCESSOR_REVISION=8e0c\", \"EFC_11964_1592913036=1\", \"TMP=C:\\\\Users\\\\user\\\\AppData\\\\Local\\\\Temp\", \"FONTCONFIG_FILE=C:\\\\Users\\\\user\\\\.julia\\\\artifacts\\\\cb74fa09f359d430ea01be69a61cd98b50ec8c22\\\\etc\\\\fonts\\\\fonts.conf\", \"VSCODE_ESM_ENTRYPOINT=vs/workbench/api/node/extensionHostProcess\", \"COMMONPROGRAMFILES(X86)=C:\\\\Program Files (x86)\\\\Common Files\", \"COMSPEC=C:\\\\Windows\\\\system32\\\\cmd.exe\", \"OPENBLAS_DEFAULT_NUM_THREADS=1\", \"ALLUSERSPROFILE=C:\\\\ProgramData\", \"VSCODE_CRASH_REPORTER_PROCESS_TYPE=extensionHost\", \"COMMONPROGRAMFILES=C:\\\\Program Files\\\\Common Files\", \"COMPUTERNAME=DESKTOP-CKQTI2G\", \"ONEDRIVE=C:\\\\Users\\\\user\\\\OneDrive\", \"VSCODE_CWD=C:\\\\Users\\\\user\\\\AppData\\\\Local\\\\Programs\\\\Microsoft VS Code\", \"VSCODE_L10N_BUNDLE_LOCATION=\", \"VSCODE_HANDLES_UNCAUGHT_ERRORS=true\", \"GRDIR=C:\\\\Users\\\\user\\\\.julia\\\\artifacts\\\\a54b856f4d0dfe6301d42d55eba59ee6c86756c2\", \"USERNAME=user\", \"__PSLOCKDOWNPOLICY=0\", \"GIT_LFS_PATH=C:\\\\Program Files\\\\Git LFS\", \"PROGRAMFILES(X86)=C:\\\\Program Files (x86)\", \"PROGRAMFILES=C:\\\\Program Files\", \"CHROME_CRASHPAD_PIPE_NAME=\\\\\\\\.\\\\pipe\\\\crashpad_16536_WZQJHNGTZKGPQWIV\", \"CONDARC=C:\\\\Users\\\\user\\\\.julia\\\\conda\\\\3\\\\x86_64\\\\condarc-julia.yml\", \"LOGONSERVER=\\\\\\\\DESKTOP-CKQTI2G\", \"ONEDRIVECONSUMER=C:\\\\Users\\\\user\\\\OneDrive\", \"USERPROFILE=C:\\\\Users\\\\user\", \"DRIVERDATA=C:\\\\Windows\\\\System32\\\\Drivers\\\\DriverData\", \"ORIGINAL_XDG_CURRENT_DESKTOP=undefined\", \"FONTCONFIG_PATH=C:\\\\Users\\\\user\\\\.julia\\\\artifacts\\\\cb74fa09f359d430ea01be69a61cd98b50ec8c22\\\\etc\\\\fonts\", \"CONDA_PREFIX=C:\\\\Users\\\\user\\\\.julia\\\\conda\\\\3\\\\x86_64\", \"FPS_BROWSER_USER_PROFILE_STRING=Default\", \"PROCESSOR_LEVEL=6\", \"SYSTEMDRIVE=C:\", \"FPS_BROWSER_APP_PROFILE_STRING=Internet Explorer\", \"PROGRAMW6432=C:\\\\Program Files\", \"TEMP=C:\\\\Users\\\\user\\\\AppData\\\\Local\\\\Temp\", \"HOMEDRIVE=C:\", \"OPENBLAS_MAIN_FREE=1\", \"PROCESSOR_ARCHITECTURE=AMD64\", \"PYTHONIOENCODING=UTF-8\"]), ProcessExited(1)) [1]\n",
      "\n",
      "\n",
      "Stacktrace:\n",
      " [1] pipeline_error\n",
      "   @ .\\process.jl:598 [inlined]\n",
      " [2] run(::Cmd; wait::Bool)\n",
      "   @ Base .\\process.jl:513\n",
      " [3] run\n",
      "   @ .\\process.jl:510 [inlined]\n",
      " [4] runconda(args::Cmd, env::String)\n",
      "   @ Conda C:\\Users\\user\\.julia\\packages\\Conda\\zReqD\\src\\Conda.jl:182\n",
      " [5] add(pkg::String, env::String; channel::String, satisfied_skip_solve::Bool, args::Cmd)\n",
      "   @ Conda C:\\Users\\user\\.julia\\packages\\Conda\\zReqD\\src\\Conda.jl:343\n",
      " [6] add\n",
      "   @ C:\\Users\\user\\.julia\\packages\\Conda\\zReqD\\src\\Conda.jl:326 [inlined]\n",
      " [7] add(pkg::String)\n",
      "   @ Conda C:\\Users\\user\\.julia\\packages\\Conda\\zReqD\\src\\Conda.jl:326\n",
      " [8] top-level scope\n",
      "   @ c:\\Users\\user\\Documents\\Julia_Projects\\Introduction-to-Julia\\jl_notebook_cell_df34fa98e69747e1a8f8a730347b8e2f_X56sZmlsZQ==.jl:1"
     ]
    }
   ],
   "source": [
    "Conda.add(\"numpy\")"
   ]
  },
  {
   "cell_type": "code",
   "execution_count": 28,
   "metadata": {},
   "outputs": [
    {
     "ename": "UndefVarError",
     "evalue": "UndefVarError: `pyimport` not defined in `Main`\nSuggestion: check for spelling errors or missing imports.",
     "output_type": "error",
     "traceback": [
      "UndefVarError: `pyimport` not defined in `Main`\n",
      "Suggestion: check for spelling errors or missing imports.\n",
      "\n",
      "Stacktrace:\n",
      " [1] top-level scope\n",
      "   @ c:\\Users\\user\\Documents\\Julia_Projects\\Introduction-to-Julia\\jl_notebook_cell_df34fa98e69747e1a8f8a730347b8e2f_X60sZmlsZQ==.jl:1"
     ]
    }
   ],
   "source": [
    "numpy_sum = pyimport(\"numpy\")[\"sum\"]\n",
    "\n",
    "py_numpy_bench = @benchmark $numpy_sum($a)"
   ]
  },
  {
   "cell_type": "code",
   "execution_count": 29,
   "metadata": {},
   "outputs": [
    {
     "ename": "UndefVarError",
     "evalue": "UndefVarError: `numpy_sum` not defined in `Main`\nSuggestion: add an appropriate import or assignment. This global was declared but not assigned.",
     "output_type": "error",
     "traceback": [
      "UndefVarError: `numpy_sum` not defined in `Main`\n",
      "Suggestion: add an appropriate import or assignment. This global was declared but not assigned.\n",
      "\n",
      "Stacktrace:\n",
      " [1] top-level scope\n",
      "   @ c:\\Users\\user\\Documents\\Julia_Projects\\Introduction-to-Julia\\jl_notebook_cell_df34fa98e69747e1a8f8a730347b8e2f_X61sZmlsZQ==.jl:1"
     ]
    }
   ],
   "source": [
    "numpy_sum(a)"
   ]
  },
  {
   "cell_type": "code",
   "execution_count": 30,
   "metadata": {},
   "outputs": [
    {
     "ename": "UndefVarError",
     "evalue": "UndefVarError: `numpy_sum` not defined in `Main`\nSuggestion: add an appropriate import or assignment. This global was declared but not assigned.",
     "output_type": "error",
     "traceback": [
      "UndefVarError: `numpy_sum` not defined in `Main`\n",
      "Suggestion: add an appropriate import or assignment. This global was declared but not assigned.\n",
      "\n",
      "Stacktrace:\n",
      " [1] top-level scope\n",
      "   @ c:\\Users\\user\\Documents\\Julia_Projects\\Introduction-to-Julia\\jl_notebook_cell_df34fa98e69747e1a8f8a730347b8e2f_X62sZmlsZQ==.jl:1"
     ]
    }
   ],
   "source": [
    "numpy_sum(a) ≈ sum(a)"
   ]
  },
  {
   "cell_type": "code",
   "execution_count": 31,
   "metadata": {
    "scrolled": true
   },
   "outputs": [
    {
     "ename": "UndefVarError",
     "evalue": "UndefVarError: `py_numpy_bench` not defined in `Main`\nSuggestion: check for spelling errors or missing imports.",
     "output_type": "error",
     "traceback": [
      "UndefVarError: `py_numpy_bench` not defined in `Main`\n",
      "Suggestion: check for spelling errors or missing imports.\n",
      "\n",
      "Stacktrace:\n",
      " [1] top-level scope\n",
      "   @ c:\\Users\\user\\Documents\\Julia_Projects\\Introduction-to-Julia\\jl_notebook_cell_df34fa98e69747e1a8f8a730347b8e2f_X63sZmlsZQ==.jl:1"
     ]
    }
   ],
   "source": [
    "d[\"Python numpy\"] = minimum(py_numpy_bench.times) / 1e6\n",
    "d"
   ]
  },
  {
   "cell_type": "markdown",
   "metadata": {},
   "source": [
    "# 5. Python, hand-written "
   ]
  },
  {
   "cell_type": "code",
   "execution_count": 32,
   "metadata": {},
   "outputs": [
    {
     "ename": "LoadError",
     "evalue": "LoadError: UndefVarError: `@py_str` not defined in `Main`\nSuggestion: check for spelling errors or missing imports.\nin expression starting at c:\\Users\\user\\Documents\\Julia_Projects\\Introduction-to-Julia\\jl_notebook_cell_df34fa98e69747e1a8f8a730347b8e2f_X65sZmlsZQ==.jl:1",
     "output_type": "error",
     "traceback": [
      "LoadError: UndefVarError: `@py_str` not defined in `Main`\n",
      "Suggestion: check for spelling errors or missing imports.\n",
      "in expression starting at c:\\Users\\user\\Documents\\Julia_Projects\\Introduction-to-Julia\\jl_notebook_cell_df34fa98e69747e1a8f8a730347b8e2f_X65sZmlsZQ==.jl:1\n",
      "\n",
      "Stacktrace:\n",
      " [1] eval(m::Module, e::Any)\n",
      "   @ Core .\\boot.jl:489\n",
      " [2] include_string(mapexpr::typeof(REPL.softscope), mod::Module, code::String, filename::String)\n",
      "   @ Base .\\loading.jl:2843\n",
      " [3] (::VSCodeServer.var\"#notebook_runcell_request##0#notebook_runcell_request##1\"{VSCodeServer.NotebookRunCellArguments, String})()\n",
      "   @ VSCodeServer c:\\Users\\user\\.vscode\\extensions\\julialang.language-julia-1.149.2\\scripts\\packages\\VSCodeServer\\src\\serve_notebook.jl:24\n",
      " [4] withpath(f::VSCodeServer.var\"#notebook_runcell_request##0#notebook_runcell_request##1\"{VSCodeServer.NotebookRunCellArguments, String}, path::String)\n",
      "   @ VSCodeServer c:\\Users\\user\\.vscode\\extensions\\julialang.language-julia-1.149.2\\scripts\\packages\\VSCodeServer\\src\\repl.jl:276\n",
      " [5] notebook_runcell_request(conn::VSCodeServer.JSONRPC.JSONRPCEndpoint{Base.PipeEndpoint, Base.PipeEndpoint, VSCodeServer.JSON.Serializations.StandardSerialization}, params::VSCodeServer.NotebookRunCellArguments, token::VSCodeServer.CancellationTokens.CancellationToken)\n",
      "   @ VSCodeServer c:\\Users\\user\\.vscode\\extensions\\julialang.language-julia-1.149.2\\scripts\\packages\\VSCodeServer\\src\\serve_notebook.jl:13\n",
      " [6] dispatch_msg(x::VSCodeServer.JSONRPC.JSONRPCEndpoint{Base.PipeEndpoint, Base.PipeEndpoint, VSCodeServer.JSON.Serializations.StandardSerialization}, dispatcher::VSCodeServer.JSONRPC.MsgDispatcher, msg::VSCodeServer.JSONRPC.Request)\n",
      "   @ VSCodeServer.JSONRPC c:\\Users\\user\\.vscode\\extensions\\julialang.language-julia-1.149.2\\scripts\\packages\\JSONRPC\\src\\typed.jl:68\n",
      " [7] serve_notebook(pipename::String, debugger_pipename::String, outputchannel_logger::Base.CoreLogging.SimpleLogger; error_handler::var\"#14#15\"{String})\n",
      "   @ VSCodeServer c:\\Users\\user\\.vscode\\extensions\\julialang.language-julia-1.149.2\\scripts\\packages\\VSCodeServer\\src\\serve_notebook.jl:147\n",
      " [8] top-level scope\n",
      "   @ c:\\Users\\user\\.vscode\\extensions\\julialang.language-julia-1.149.2\\scripts\\notebook\\notebook.jl:35"
     ]
    }
   ],
   "source": [
    "py\"\"\"\n",
    "def py_sum(A):\n",
    "    s = 0.0\n",
    "    for a in A:\n",
    "        s += a\n",
    "    return s\n",
    "\"\"\"\n",
    "\n",
    "sum_py = py\"py_sum\""
   ]
  },
  {
   "cell_type": "code",
   "execution_count": 33,
   "metadata": {},
   "outputs": [
    {
     "ename": "UndefVarError",
     "evalue": "UndefVarError: `sum_py` not defined in `Main`\nSuggestion: check for spelling errors or missing imports.",
     "output_type": "error",
     "traceback": [
      "UndefVarError: `sum_py` not defined in `Main`\n",
      "Suggestion: check for spelling errors or missing imports.\n",
      "\n",
      "Stacktrace:\n",
      " [1] top-level scope\n",
      "   @ C:\\Users\\user\\.julia\\packages\\BenchmarkTools\\1i1mY\\src\\execution.jl:512"
     ]
    }
   ],
   "source": [
    "py_hand = @benchmark $sum_py($a)"
   ]
  },
  {
   "cell_type": "code",
   "execution_count": 34,
   "metadata": {},
   "outputs": [
    {
     "ename": "UndefVarError",
     "evalue": "UndefVarError: `sum_py` not defined in `Main`\nSuggestion: check for spelling errors or missing imports.",
     "output_type": "error",
     "traceback": [
      "UndefVarError: `sum_py` not defined in `Main`\n",
      "Suggestion: check for spelling errors or missing imports.\n",
      "\n",
      "Stacktrace:\n",
      " [1] top-level scope\n",
      "   @ c:\\Users\\user\\Documents\\Julia_Projects\\Introduction-to-Julia\\jl_notebook_cell_df34fa98e69747e1a8f8a730347b8e2f_Y100sZmlsZQ==.jl:1"
     ]
    }
   ],
   "source": [
    "sum_py(a)"
   ]
  },
  {
   "cell_type": "code",
   "execution_count": 35,
   "metadata": {},
   "outputs": [
    {
     "ename": "UndefVarError",
     "evalue": "UndefVarError: `sum_py` not defined in `Main`\nSuggestion: check for spelling errors or missing imports.",
     "output_type": "error",
     "traceback": [
      "UndefVarError: `sum_py` not defined in `Main`\n",
      "Suggestion: check for spelling errors or missing imports.\n",
      "\n",
      "Stacktrace:\n",
      " [1] top-level scope\n",
      "   @ c:\\Users\\user\\Documents\\Julia_Projects\\Introduction-to-Julia\\jl_notebook_cell_df34fa98e69747e1a8f8a730347b8e2f_Y101sZmlsZQ==.jl:1"
     ]
    }
   ],
   "source": [
    "sum_py(a) ≈ sum(a)"
   ]
  },
  {
   "cell_type": "code",
   "execution_count": 36,
   "metadata": {
    "scrolled": true
   },
   "outputs": [
    {
     "ename": "UndefVarError",
     "evalue": "UndefVarError: `py_hand` not defined in `Main`\nSuggestion: check for spelling errors or missing imports.",
     "output_type": "error",
     "traceback": [
      "UndefVarError: `py_hand` not defined in `Main`\n",
      "Suggestion: check for spelling errors or missing imports.\n",
      "\n",
      "Stacktrace:\n",
      " [1] top-level scope\n",
      "   @ c:\\Users\\user\\Documents\\Julia_Projects\\Introduction-to-Julia\\jl_notebook_cell_df34fa98e69747e1a8f8a730347b8e2f_Y102sZmlsZQ==.jl:1"
     ]
    }
   ],
   "source": [
    "d[\"Python hand-written\"] = minimum(py_hand.times) / 1e6\n",
    "d"
   ]
  },
  {
   "cell_type": "markdown",
   "metadata": {},
   "source": [
    "# 6. Julia (built-in) \n",
    "\n",
    "## Written directly in Julia, not in C!"
   ]
  },
  {
   "cell_type": "code",
   "execution_count": 37,
   "metadata": {},
   "outputs": [
    {
     "data": {
      "text/html": [
       "sum(a::<b>AbstractArray</b>; <i>dims, kw...</i>) in Base at <a href=\"https://github.com/JuliaLang/julia/tree/b907bd0600f7041cce39a028cd63a1e154b42d62/base/reducedim.jl#L979\" target=\"_blank\">reducedim.jl:979</a>"
      ],
      "text/plain": [
       "sum(\u001b[90ma\u001b[39m::\u001b[1mAbstractArray\u001b[22m; dims, kw...)\n",
       "\u001b[90m     @\u001b[39m \u001b[90mBase\u001b[39m \u001b[90m\u001b[4mreducedim.jl:979\u001b[24m\u001b[39m"
      ]
     },
     "metadata": {},
     "output_type": "display_data"
    }
   ],
   "source": [
    "@which sum(a)"
   ]
  },
  {
   "cell_type": "code",
   "execution_count": 38,
   "metadata": {},
   "outputs": [
    {
     "data": {
      "text/plain": [
       "BenchmarkTools.Trial: 751 samples with 1 evaluation per sample.\n",
       " Range \u001b[90m(\u001b[39m\u001b[36m\u001b[1mmin\u001b[22m\u001b[39m … \u001b[35mmax\u001b[39m\u001b[90m):  \u001b[39m\u001b[36m\u001b[1m4.057 ms\u001b[22m\u001b[39m … \u001b[35m  9.818 ms\u001b[39m  \u001b[90m┊\u001b[39m GC \u001b[90m(\u001b[39mmin … max\u001b[90m): \u001b[39m0.00% … 0.00%\n",
       " Time  \u001b[90m(\u001b[39m\u001b[34m\u001b[1mmedian\u001b[22m\u001b[39m\u001b[90m):     \u001b[39m\u001b[34m\u001b[1m6.657 ms               \u001b[22m\u001b[39m\u001b[90m┊\u001b[39m GC \u001b[90m(\u001b[39mmedian\u001b[90m):    \u001b[39m0.00%\n",
       " Time  \u001b[90m(\u001b[39m\u001b[32m\u001b[1mmean\u001b[22m\u001b[39m ± \u001b[32mσ\u001b[39m\u001b[90m):   \u001b[39m\u001b[32m\u001b[1m6.605 ms\u001b[22m\u001b[39m ± \u001b[32m640.156 μs\u001b[39m  \u001b[90m┊\u001b[39m GC \u001b[90m(\u001b[39mmean ± σ\u001b[90m):  \u001b[39m0.00% ± 0.00%\n",
       "\n",
       "  \u001b[39m \u001b[39m \u001b[39m \u001b[39m \u001b[39m \u001b[39m \u001b[39m \u001b[39m \u001b[39m \u001b[39m \u001b[39m \u001b[39m \u001b[39m \u001b[39m \u001b[39m \u001b[39m \u001b[39m \u001b[39m \u001b[39m \u001b[39m \u001b[39m \u001b[39m \u001b[39m \u001b[39m \u001b[39m \u001b[39m \u001b[39m \u001b[39m \u001b[39m \u001b[39m \u001b[39m \u001b[39m▁\u001b[39m▁\u001b[39m \u001b[39m▂\u001b[39m▂\u001b[39m▅\u001b[39m█\u001b[32m▇\u001b[39m\u001b[34m▆\u001b[39m\u001b[39m▅\u001b[39m▅\u001b[39m▅\u001b[39m▅\u001b[39m▅\u001b[39m▅\u001b[39m▄\u001b[39m▃\u001b[39m▁\u001b[39m▁\u001b[39m \u001b[39m \u001b[39m \u001b[39m \u001b[39m \u001b[39m \u001b[39m \u001b[39m \u001b[39m \u001b[39m \u001b[39m \n",
       "  \u001b[39m▇\u001b[39m▄\u001b[39m▄\u001b[39m▅\u001b[39m▆\u001b[39m▅\u001b[39m▄\u001b[39m▆\u001b[39m▅\u001b[39m▆\u001b[39m▆\u001b[39m▇\u001b[39m▁\u001b[39m▄\u001b[39m▅\u001b[39m▄\u001b[39m▇\u001b[39m▆\u001b[39m▄\u001b[39m▇\u001b[39m▇\u001b[39m▇\u001b[39m▆\u001b[39m▇\u001b[39m▆\u001b[39m▄\u001b[39m▇\u001b[39m▇\u001b[39m▄\u001b[39m▇\u001b[39m▇\u001b[39m█\u001b[39m█\u001b[39m█\u001b[39m█\u001b[39m█\u001b[39m█\u001b[39m█\u001b[32m█\u001b[39m\u001b[34m█\u001b[39m\u001b[39m█\u001b[39m█\u001b[39m█\u001b[39m█\u001b[39m█\u001b[39m█\u001b[39m█\u001b[39m█\u001b[39m█\u001b[39m█\u001b[39m▅\u001b[39m▅\u001b[39m▆\u001b[39m▄\u001b[39m▄\u001b[39m▆\u001b[39m▄\u001b[39m▅\u001b[39m▄\u001b[39m \u001b[39m█\n",
       "  4.06 ms\u001b[90m      \u001b[39m\u001b[90mHistogram: \u001b[39m\u001b[90m\u001b[1mlog(\u001b[22m\u001b[39m\u001b[90mfrequency\u001b[39m\u001b[90m\u001b[1m)\u001b[22m\u001b[39m\u001b[90m by time\u001b[39m      7.97 ms \u001b[0m\u001b[1m<\u001b[22m\n",
       "\n",
       " Memory estimate\u001b[90m: \u001b[39m\u001b[33m0 bytes\u001b[39m, allocs estimate\u001b[90m: \u001b[39m\u001b[33m0\u001b[39m."
      ]
     },
     "metadata": {},
     "output_type": "display_data"
    }
   ],
   "source": [
    "j_bench = @benchmark sum($a)"
   ]
  },
  {
   "cell_type": "code",
   "execution_count": 39,
   "metadata": {
    "scrolled": true
   },
   "outputs": [
    {
     "data": {
      "text/plain": [
       "Dict{Any, Any} with 1 entry:\n",
       "  \"Julia built-in\" => 4.0568"
      ]
     },
     "metadata": {},
     "output_type": "display_data"
    }
   ],
   "source": [
    "d[\"Julia built-in\"] = minimum(j_bench.times) / 1e6\n",
    "d"
   ]
  },
  {
   "cell_type": "markdown",
   "metadata": {},
   "source": [
    "# 7. Julia (hand-written) "
   ]
  },
  {
   "cell_type": "code",
   "execution_count": 40,
   "metadata": {
    "scrolled": true
   },
   "outputs": [
    {
     "data": {
      "text/plain": [
       "mysum (generic function with 1 method)"
      ]
     },
     "metadata": {},
     "output_type": "display_data"
    }
   ],
   "source": [
    "function mysum(A)   \n",
    "    s = 0.0 # s = zero(eltype(a))\n",
    "    for a in A\n",
    "        s += a\n",
    "    end\n",
    "    s\n",
    "end"
   ]
  },
  {
   "cell_type": "code",
   "execution_count": 41,
   "metadata": {},
   "outputs": [
    {
     "data": {
      "text/plain": [
       "BenchmarkTools.Trial: 372 samples with 1 evaluation per sample.\n",
       " Range \u001b[90m(\u001b[39m\u001b[36m\u001b[1mmin\u001b[22m\u001b[39m … \u001b[35mmax\u001b[39m\u001b[90m):  \u001b[39m\u001b[36m\u001b[1m 9.980 ms\u001b[22m\u001b[39m … \u001b[35m23.576 ms\u001b[39m  \u001b[90m┊\u001b[39m GC \u001b[90m(\u001b[39mmin … max\u001b[90m): \u001b[39m0.00% … 0.00%\n",
       " Time  \u001b[90m(\u001b[39m\u001b[34m\u001b[1mmedian\u001b[22m\u001b[39m\u001b[90m):     \u001b[39m\u001b[34m\u001b[1m12.312 ms              \u001b[22m\u001b[39m\u001b[90m┊\u001b[39m GC \u001b[90m(\u001b[39mmedian\u001b[90m):    \u001b[39m0.00%\n",
       " Time  \u001b[90m(\u001b[39m\u001b[32m\u001b[1mmean\u001b[22m\u001b[39m ± \u001b[32mσ\u001b[39m\u001b[90m):   \u001b[39m\u001b[32m\u001b[1m13.432 ms\u001b[22m\u001b[39m ± \u001b[32m 2.859 ms\u001b[39m  \u001b[90m┊\u001b[39m GC \u001b[90m(\u001b[39mmean ± σ\u001b[90m):  \u001b[39m0.00% ± 0.00%\n",
       "\n",
       "  \u001b[39m \u001b[39m \u001b[39m \u001b[39m \u001b[39m \u001b[39m▃\u001b[39m▅\u001b[39m▆\u001b[39m▃\u001b[39m█\u001b[39m▇\u001b[39m▂\u001b[39m▂\u001b[34m \u001b[39m\u001b[39m \u001b[39m▂\u001b[39m \u001b[39m▂\u001b[39m \u001b[32m \u001b[39m\u001b[39m \u001b[39m \u001b[39m \u001b[39m \u001b[39m \u001b[39m \u001b[39m \u001b[39m \u001b[39m \u001b[39m \u001b[39m \u001b[39m \u001b[39m \u001b[39m \u001b[39m \u001b[39m \u001b[39m \u001b[39m \u001b[39m \u001b[39m \u001b[39m \u001b[39m \u001b[39m \u001b[39m \u001b[39m \u001b[39m \u001b[39m \u001b[39m \u001b[39m \u001b[39m \u001b[39m \u001b[39m \u001b[39m \u001b[39m \u001b[39m \u001b[39m \u001b[39m \u001b[39m \u001b[39m \u001b[39m \u001b[39m \n",
       "  \u001b[39m▃\u001b[39m▄\u001b[39m▄\u001b[39m█\u001b[39m█\u001b[39m█\u001b[39m█\u001b[39m█\u001b[39m█\u001b[39m█\u001b[39m█\u001b[39m█\u001b[39m█\u001b[34m▇\u001b[39m\u001b[39m█\u001b[39m█\u001b[39m▇\u001b[39m█\u001b[39m▅\u001b[32m▅\u001b[39m\u001b[39m▅\u001b[39m▅\u001b[39m▅\u001b[39m▅\u001b[39m▄\u001b[39m▄\u001b[39m▄\u001b[39m▄\u001b[39m▄\u001b[39m▄\u001b[39m▄\u001b[39m▄\u001b[39m▃\u001b[39m▃\u001b[39m▃\u001b[39m▃\u001b[39m▄\u001b[39m▃\u001b[39m▃\u001b[39m▃\u001b[39m▃\u001b[39m▄\u001b[39m▄\u001b[39m▃\u001b[39m▁\u001b[39m▄\u001b[39m▁\u001b[39m▃\u001b[39m▃\u001b[39m▃\u001b[39m▁\u001b[39m▄\u001b[39m▃\u001b[39m▄\u001b[39m▃\u001b[39m▃\u001b[39m▅\u001b[39m▄\u001b[39m▆\u001b[39m \u001b[39m▄\n",
       "  9.98 ms\u001b[90m         Histogram: frequency by time\u001b[39m        20.8 ms \u001b[0m\u001b[1m<\u001b[22m\n",
       "\n",
       " Memory estimate\u001b[90m: \u001b[39m\u001b[33m0 bytes\u001b[39m, allocs estimate\u001b[90m: \u001b[39m\u001b[33m0\u001b[39m."
      ]
     },
     "metadata": {},
     "output_type": "display_data"
    }
   ],
   "source": [
    "j_bench_hand = @benchmark mysum($a)"
   ]
  },
  {
   "cell_type": "code",
   "execution_count": 42,
   "metadata": {
    "scrolled": true
   },
   "outputs": [
    {
     "data": {
      "text/plain": [
       "Dict{Any, Any} with 2 entries:\n",
       "  \"Julia hand-written\" => 9.9797\n",
       "  \"Julia built-in\"     => 4.0568"
      ]
     },
     "metadata": {},
     "output_type": "display_data"
    }
   ],
   "source": [
    "d[\"Julia hand-written\"] = minimum(j_bench_hand.times) / 1e6\n",
    "d"
   ]
  },
  {
   "cell_type": "markdown",
   "metadata": {},
   "source": [
    "# 8. Julia (hand-written w. simd) "
   ]
  },
  {
   "cell_type": "code",
   "execution_count": 43,
   "metadata": {},
   "outputs": [
    {
     "data": {
      "text/plain": [
       "mysum_simd (generic function with 1 method)"
      ]
     },
     "metadata": {},
     "output_type": "display_data"
    }
   ],
   "source": [
    "function mysum_simd(A)   \n",
    "    s = 0.0 # s = zero(eltype(A))\n",
    "    @simd for a in A\n",
    "        s += a\n",
    "    end\n",
    "    s\n",
    "end"
   ]
  },
  {
   "cell_type": "code",
   "execution_count": 44,
   "metadata": {},
   "outputs": [
    {
     "data": {
      "text/plain": [
       "BenchmarkTools.Trial: 799 samples with 1 evaluation per sample.\n",
       " Range \u001b[90m(\u001b[39m\u001b[36m\u001b[1mmin\u001b[22m\u001b[39m … \u001b[35mmax\u001b[39m\u001b[90m):  \u001b[39m\u001b[36m\u001b[1m3.890 ms\u001b[22m\u001b[39m … \u001b[35m  9.062 ms\u001b[39m  \u001b[90m┊\u001b[39m GC \u001b[90m(\u001b[39mmin … max\u001b[90m): \u001b[39m0.00% … 0.00%\n",
       " Time  \u001b[90m(\u001b[39m\u001b[34m\u001b[1mmedian\u001b[22m\u001b[39m\u001b[90m):     \u001b[39m\u001b[34m\u001b[1m6.428 ms               \u001b[22m\u001b[39m\u001b[90m┊\u001b[39m GC \u001b[90m(\u001b[39mmedian\u001b[90m):    \u001b[39m0.00%\n",
       " Time  \u001b[90m(\u001b[39m\u001b[32m\u001b[1mmean\u001b[22m\u001b[39m ± \u001b[32mσ\u001b[39m\u001b[90m):   \u001b[39m\u001b[32m\u001b[1m6.238 ms\u001b[22m\u001b[39m ± \u001b[32m814.785 μs\u001b[39m  \u001b[90m┊\u001b[39m GC \u001b[90m(\u001b[39mmean ± σ\u001b[90m):  \u001b[39m0.00% ± 0.00%\n",
       "\n",
       "  \u001b[39m \u001b[39m \u001b[39m \u001b[39m \u001b[39m \u001b[39m \u001b[39m \u001b[39m \u001b[39m \u001b[39m \u001b[39m \u001b[39m \u001b[39m \u001b[39m \u001b[39m \u001b[39m \u001b[39m \u001b[39m \u001b[39m \u001b[39m \u001b[39m \u001b[39m \u001b[39m \u001b[39m \u001b[39m \u001b[39m \u001b[39m \u001b[39m \u001b[39m \u001b[39m \u001b[39m \u001b[39m \u001b[39m \u001b[39m \u001b[39m \u001b[39m \u001b[32m \u001b[39m\u001b[39m▁\u001b[39m▅\u001b[34m▅\u001b[39m\u001b[39m█\u001b[39m▅\u001b[39m▂\u001b[39m▁\u001b[39m▁\u001b[39m \u001b[39m \u001b[39m \u001b[39m \u001b[39m \u001b[39m \u001b[39m \u001b[39m \u001b[39m \u001b[39m \u001b[39m \u001b[39m \u001b[39m \u001b[39m \u001b[39m \u001b[39m \n",
       "  \u001b[39m▃\u001b[39m▁\u001b[39m▂\u001b[39m▂\u001b[39m▂\u001b[39m▃\u001b[39m▃\u001b[39m▂\u001b[39m▃\u001b[39m▂\u001b[39m▃\u001b[39m▂\u001b[39m▂\u001b[39m▂\u001b[39m▂\u001b[39m▃\u001b[39m▂\u001b[39m▃\u001b[39m▃\u001b[39m▃\u001b[39m▃\u001b[39m▃\u001b[39m▃\u001b[39m▃\u001b[39m▄\u001b[39m▃\u001b[39m▃\u001b[39m▄\u001b[39m▅\u001b[39m▄\u001b[39m▄\u001b[39m▅\u001b[39m▅\u001b[39m▆\u001b[39m▄\u001b[39m▇\u001b[32m▆\u001b[39m\u001b[39m█\u001b[39m█\u001b[34m█\u001b[39m\u001b[39m█\u001b[39m█\u001b[39m█\u001b[39m█\u001b[39m█\u001b[39m▆\u001b[39m▆\u001b[39m▇\u001b[39m▆\u001b[39m▅\u001b[39m▄\u001b[39m▄\u001b[39m▃\u001b[39m▃\u001b[39m▂\u001b[39m▂\u001b[39m▃\u001b[39m▂\u001b[39m▂\u001b[39m \u001b[39m▃\n",
       "  3.89 ms\u001b[90m         Histogram: frequency by time\u001b[39m        7.71 ms \u001b[0m\u001b[1m<\u001b[22m\n",
       "\n",
       " Memory estimate\u001b[90m: \u001b[39m\u001b[33m0 bytes\u001b[39m, allocs estimate\u001b[90m: \u001b[39m\u001b[33m0\u001b[39m."
      ]
     },
     "metadata": {},
     "output_type": "display_data"
    }
   ],
   "source": [
    "j_bench_hand_simd = @benchmark mysum_simd($a)"
   ]
  },
  {
   "cell_type": "code",
   "execution_count": 45,
   "metadata": {},
   "outputs": [
    {
     "data": {
      "text/plain": [
       "4.999882072827319e6"
      ]
     },
     "metadata": {},
     "output_type": "display_data"
    }
   ],
   "source": [
    "mysum_simd(a)"
   ]
  },
  {
   "cell_type": "code",
   "execution_count": 46,
   "metadata": {
    "scrolled": true
   },
   "outputs": [
    {
     "data": {
      "text/plain": [
       "Dict{Any, Any} with 3 entries:\n",
       "  \"Julia hand-written simd\" => 3.8897\n",
       "  \"Julia hand-written\"      => 9.9797\n",
       "  \"Julia built-in\"          => 4.0568"
      ]
     },
     "metadata": {},
     "output_type": "display_data"
    }
   ],
   "source": [
    "d[\"Julia hand-written simd\"] = minimum(j_bench_hand_simd.times) / 1e6\n",
    "d"
   ]
  },
  {
   "cell_type": "markdown",
   "metadata": {},
   "source": [
    "# Summary"
   ]
  },
  {
   "cell_type": "code",
   "execution_count": 47,
   "metadata": {
    "scrolled": true
   },
   "outputs": [
    {
     "name": "stdout",
     "output_type": "stream",
     "text": [
      "Julia hand-written simd.....3.9\n",
      "Julia built-in..............4.1\n",
      "Julia hand-written.........10.0\n"
     ]
    }
   ],
   "source": [
    "for (key, value) in sort(collect(d), by=last)\n",
    "    println(rpad(key, 25, \".\"), lpad(round(value; digits=1), 6, \".\"))\n",
    "end"
   ]
  }
 ],
 "metadata": {
  "anaconda-cloud": {},
  "kernelspec": {
   "display_name": "Julia 1.12.0",
   "language": "julia",
   "name": "julia-1.12"
  },
  "language_info": {
   "file_extension": ".jl",
   "mimetype": "application/julia",
   "name": "julia",
   "version": "1.12.0"
  },
  "toc": {
   "colors": {
    "hover_highlight": "#DAA520",
    "running_highlight": "#FF0000",
    "selected_highlight": "#FFD700"
   },
   "moveMenuLeft": true,
   "nav_menu": {
    "height": "212px",
    "width": "252px"
   },
   "navigate_menu": true,
   "number_sections": true,
   "sideBar": true,
   "threshold": "2",
   "toc_cell": false,
   "toc_section_display": "block",
   "toc_window_display": false
  }
 },
 "nbformat": 4,
 "nbformat_minor": 4
}
