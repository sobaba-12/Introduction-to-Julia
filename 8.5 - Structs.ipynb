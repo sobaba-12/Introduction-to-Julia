{
 "cells": [
  {
   "cell_type": "markdown",
   "id": "ba90bec8",
   "metadata": {},
   "source": [
    "## Structs are for trying to get the features of OOP into Julia\n",
    "### Structs have fields and are by default immutable"
   ]
  },
  {
   "cell_type": "code",
   "execution_count": 1,
   "id": "cd1fe0d9",
   "metadata": {},
   "outputs": [],
   "source": [
    "struct Name\n",
    "    name::String\n",
    "end"
   ]
  },
  {
   "cell_type": "markdown",
   "id": "c6dc31db",
   "metadata": {},
   "source": [
    "- We can now call this struct"
   ]
  },
  {
   "cell_type": "code",
   "execution_count": 2,
   "id": "dbb885e3",
   "metadata": {},
   "outputs": [
    {
     "data": {
      "text/plain": [
       "Name(\"Tom\")"
      ]
     },
     "metadata": {},
     "output_type": "display_data"
    }
   ],
   "source": [
    "tom = Name(\"Tom\")"
   ]
  },
  {
   "cell_type": "markdown",
   "id": "a6ef4621",
   "metadata": {},
   "source": [
    "- To access Tom's name we reference the field name"
   ]
  },
  {
   "cell_type": "code",
   "execution_count": 3,
   "id": "ae0c2900",
   "metadata": {},
   "outputs": [
    {
     "data": {
      "text/plain": [
       "\"Tom\""
      ]
     },
     "metadata": {},
     "output_type": "display_data"
    }
   ],
   "source": [
    "tom.name"
   ]
  },
  {
   "cell_type": "markdown",
   "id": "b21ce655",
   "metadata": {},
   "source": [
    "- Structs cannot be changed"
   ]
  },
  {
   "cell_type": "code",
   "execution_count": 4,
   "id": "c3ffdc03",
   "metadata": {},
   "outputs": [
    {
     "ename": "ErrorException",
     "evalue": "setfield!: immutable struct of type Name cannot be changed",
     "output_type": "error",
     "traceback": [
      "setfield!: immutable struct of type Name cannot be changed\n",
      "\n",
      "Stacktrace:\n",
      " [1] setproperty!(x::Name, f::Symbol, v::String)\n",
      "   @ Base .\\Base_compiler.jl:58\n",
      " [2] top-level scope\n",
      "   @ c:\\Users\\user\\Documents\\Julia_Projects\\Introduction-to-Julia\\jl_notebook_cell_df34fa98e69747e1a8f8a730347b8e2f_X12sZmlsZQ==.jl:1"
     ]
    }
   ],
   "source": [
    "tom.name = \"Steve\""
   ]
  },
  {
   "cell_type": "markdown",
   "id": "981a483d",
   "metadata": {},
   "source": [
    "### Mutable structs (these tend to be more useful)"
   ]
  },
  {
   "cell_type": "code",
   "execution_count": 9,
   "id": "5f082bc1",
   "metadata": {},
   "outputs": [],
   "source": [
    "mutable struct Human\n",
    "    name::String\n",
    "    age::Int\n",
    "    isFat\n",
    "    \n",
    "    # Set by isFat to be false\n",
    "    function Human(name, age)\n",
    "        new(name, age, false)\n",
    "    end\n",
    "end"
   ]
  },
  {
   "cell_type": "code",
   "execution_count": null,
   "id": "3968ffb8",
   "metadata": {},
   "outputs": [
    {
     "data": {
      "text/plain": [
       "Human(\"Soba\", 21, false)"
      ]
     },
     "metadata": {},
     "output_type": "display_data"
    }
   ],
   "source": [
    "soba = Human(\"Soba\", 21)"
   ]
  },
  {
   "cell_type": "code",
   "execution_count": 11,
   "id": "d70d7bfe",
   "metadata": {},
   "outputs": [
    {
     "data": {
      "text/plain": [
       "bday (generic function with 1 method)"
      ]
     },
     "metadata": {},
     "output_type": "display_data"
    }
   ],
   "source": [
    "function bday(person::Human)\n",
    "    person.age += 1\n",
    "end"
   ]
  },
  {
   "cell_type": "code",
   "execution_count": 12,
   "id": "4b6b682a",
   "metadata": {},
   "outputs": [
    {
     "data": {
      "text/plain": [
       "22"
      ]
     },
     "metadata": {},
     "output_type": "display_data"
    }
   ],
   "source": [
    "bday(soba)"
   ]
  },
  {
   "cell_type": "code",
   "execution_count": 13,
   "id": "f653a7bf",
   "metadata": {},
   "outputs": [
    {
     "data": {
      "text/plain": [
       "22"
      ]
     },
     "metadata": {},
     "output_type": "display_data"
    }
   ],
   "source": [
    "soba.age"
   ]
  },
  {
   "cell_type": "markdown",
   "id": "cbf263ce",
   "metadata": {},
   "source": [
    "###"
   ]
  }
 ],
 "metadata": {
  "kernelspec": {
   "display_name": "Julia 1.12.0",
   "language": "julia",
   "name": "julia-1.12"
  },
  "language_info": {
   "file_extension": ".jl",
   "mimetype": "application/julia",
   "name": "julia",
   "version": "1.12.0"
  }
 },
 "nbformat": 4,
 "nbformat_minor": 5
}
